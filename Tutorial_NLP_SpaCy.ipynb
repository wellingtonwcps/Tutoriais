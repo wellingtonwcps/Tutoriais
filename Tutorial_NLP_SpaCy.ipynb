{
  "nbformat": 4,
  "nbformat_minor": 0,
  "metadata": {
    "colab": {
      "name": "Tutorial_NLP_SpaCy.ipynb",
      "provenance": [],
      "collapsed_sections": []
    },
    "kernelspec": {
      "name": "python3",
      "display_name": "Python 3"
    }
  },
  "cells": [
    {
      "cell_type": "code",
      "metadata": {
        "id": "kzgr0sz1dReG",
        "colab_type": "code",
        "colab": {}
      },
      "source": [
        "!pip install spacy\n",
        "!pip install pycaret"
      ],
      "execution_count": 0,
      "outputs": []
    },
    {
      "cell_type": "code",
      "metadata": {
        "id": "rzvS6ahheaYg",
        "colab_type": "code",
        "outputId": "a15554de-aa43-43fc-c1c4-2c0613f80716",
        "colab": {
          "base_uri": "https://localhost:8080/",
          "height": 425
        }
      },
      "source": [
        "!python -m spacy download pt_core_news_sm"
      ],
      "execution_count": 0,
      "outputs": [
        {
          "output_type": "stream",
          "text": [
            "Requirement already satisfied: pt_core_news_sm==2.2.5 from https://github.com/explosion/spacy-models/releases/download/pt_core_news_sm-2.2.5/pt_core_news_sm-2.2.5.tar.gz#egg=pt_core_news_sm==2.2.5 in /usr/local/lib/python3.6/dist-packages (2.2.5)\n",
            "Requirement already satisfied: spacy>=2.2.2 in /usr/local/lib/python3.6/dist-packages (from pt_core_news_sm==2.2.5) (2.2.4)\n",
            "Requirement already satisfied: cymem<2.1.0,>=2.0.2 in /usr/local/lib/python3.6/dist-packages (from spacy>=2.2.2->pt_core_news_sm==2.2.5) (2.0.3)\n",
            "Requirement already satisfied: blis<0.5.0,>=0.4.0 in /usr/local/lib/python3.6/dist-packages (from spacy>=2.2.2->pt_core_news_sm==2.2.5) (0.4.1)\n",
            "Requirement already satisfied: murmurhash<1.1.0,>=0.28.0 in /usr/local/lib/python3.6/dist-packages (from spacy>=2.2.2->pt_core_news_sm==2.2.5) (1.0.2)\n",
            "Requirement already satisfied: srsly<1.1.0,>=1.0.2 in /usr/local/lib/python3.6/dist-packages (from spacy>=2.2.2->pt_core_news_sm==2.2.5) (1.0.2)\n",
            "Requirement already satisfied: tqdm<5.0.0,>=4.38.0 in /usr/local/lib/python3.6/dist-packages (from spacy>=2.2.2->pt_core_news_sm==2.2.5) (4.41.1)\n",
            "Requirement already satisfied: setuptools in /usr/local/lib/python3.6/dist-packages (from spacy>=2.2.2->pt_core_news_sm==2.2.5) (46.3.0)\n",
            "Requirement already satisfied: wasabi<1.1.0,>=0.4.0 in /usr/local/lib/python3.6/dist-packages (from spacy>=2.2.2->pt_core_news_sm==2.2.5) (0.6.0)\n",
            "Requirement already satisfied: plac<1.2.0,>=0.9.6 in /usr/local/lib/python3.6/dist-packages (from spacy>=2.2.2->pt_core_news_sm==2.2.5) (1.1.3)\n",
            "Requirement already satisfied: requests<3.0.0,>=2.13.0 in /usr/local/lib/python3.6/dist-packages (from spacy>=2.2.2->pt_core_news_sm==2.2.5) (2.23.0)\n",
            "Requirement already satisfied: numpy>=1.15.0 in /usr/local/lib/python3.6/dist-packages (from spacy>=2.2.2->pt_core_news_sm==2.2.5) (1.18.4)\n",
            "Requirement already satisfied: preshed<3.1.0,>=3.0.2 in /usr/local/lib/python3.6/dist-packages (from spacy>=2.2.2->pt_core_news_sm==2.2.5) (3.0.2)\n",
            "Requirement already satisfied: catalogue<1.1.0,>=0.0.7 in /usr/local/lib/python3.6/dist-packages (from spacy>=2.2.2->pt_core_news_sm==2.2.5) (1.0.0)\n",
            "Requirement already satisfied: thinc==7.4.0 in /usr/local/lib/python3.6/dist-packages (from spacy>=2.2.2->pt_core_news_sm==2.2.5) (7.4.0)\n",
            "Requirement already satisfied: idna<3,>=2.5 in /usr/local/lib/python3.6/dist-packages (from requests<3.0.0,>=2.13.0->spacy>=2.2.2->pt_core_news_sm==2.2.5) (2.9)\n",
            "Requirement already satisfied: chardet<4,>=3.0.2 in /usr/local/lib/python3.6/dist-packages (from requests<3.0.0,>=2.13.0->spacy>=2.2.2->pt_core_news_sm==2.2.5) (3.0.4)\n",
            "Requirement already satisfied: certifi>=2017.4.17 in /usr/local/lib/python3.6/dist-packages (from requests<3.0.0,>=2.13.0->spacy>=2.2.2->pt_core_news_sm==2.2.5) (2020.4.5.1)\n",
            "Requirement already satisfied: urllib3!=1.25.0,!=1.25.1,<1.26,>=1.21.1 in /usr/local/lib/python3.6/dist-packages (from requests<3.0.0,>=2.13.0->spacy>=2.2.2->pt_core_news_sm==2.2.5) (1.24.3)\n",
            "Requirement already satisfied: importlib-metadata>=0.20; python_version < \"3.8\" in /usr/local/lib/python3.6/dist-packages (from catalogue<1.1.0,>=0.0.7->spacy>=2.2.2->pt_core_news_sm==2.2.5) (1.6.0)\n",
            "Requirement already satisfied: zipp>=0.5 in /usr/local/lib/python3.6/dist-packages (from importlib-metadata>=0.20; python_version < \"3.8\"->catalogue<1.1.0,>=0.0.7->spacy>=2.2.2->pt_core_news_sm==2.2.5) (3.1.0)\n",
            "\u001b[38;5;2m✔ Download and installation successful\u001b[0m\n",
            "You can now load the model via spacy.load('pt_core_news_sm')\n"
          ],
          "name": "stdout"
        }
      ]
    },
    {
      "cell_type": "code",
      "metadata": {
        "id": "qjGZTYKPc1zd",
        "colab_type": "code",
        "colab": {}
      },
      "source": [
        "import spacy\n",
        "import pt_core_news_sm\n"
      ],
      "execution_count": 0,
      "outputs": []
    },
    {
      "cell_type": "markdown",
      "metadata": {
        "id": "IV80481PducF",
        "colab_type": "text"
      },
      "source": [
        "# Usando SpaCy em Português\n",
        "\n",
        "Se você é novo no spaCy, há algumas coisas que você deve estar ciente:\n",
        "\n",
        "1) Modelos estatísticos de spaCy\n",
        "\n",
        "2) Pipeline de processamento do spaCy\n",
        "Vamos discutir cada um em detalhes.\n",
        "\n",
        "**spaCy’s Statistical Models**\n",
        "\n",
        "Esses modelos são os motores de energia do spa. Esses modelos permitem ao spaCy executar várias tarefas relacionadas à PNL, como marcação de parte do discurso, reconhecimento de entidade nomeada e análise de dependência.\n",
        "\n",
        "Listei abaixo os diferentes modelos estatísticos em spa, juntamente com suas especificações:\n",
        "\n",
        "en_core_web_sm: CNN multitarefa em inglês treinada no OntoNotes. Tamanho - 11 MB\n",
        "\n",
        "en_core_web_md: CNN multitarefa em inglês treinada no OntoNotes, com vetores GloVe treinados no rastreamento comum. Tamanho - 91 MB\n",
        "\n",
        "en_core_web_lg: CNN multitarefa em inglês treinada no OntoNotes, com vetores GloVe treinados no rastreamento comum. Tamanho - 789 MB\n",
        "\n",
        "pt_core_news_sm: Modelo em português treinado na Wikipewdia.\n",
        "\n",
        "A importação desses modelos é super fácil. Para importar um modelo, basta executar spacy.load ('model_name'), como mostrado abaixo:\n"
      ]
    },
    {
      "cell_type": "code",
      "metadata": {
        "id": "YB4W0vpgd12f",
        "colab_type": "code",
        "colab": {}
      },
      "source": [
        "nlp = pt_core_news_sm.load() ## Carrega o modelo em Português"
      ],
      "execution_count": 0,
      "outputs": []
    },
    {
      "cell_type": "code",
      "metadata": {
        "id": "MF1lkwIHfx3E",
        "colab_type": "code",
        "colab": {}
      },
      "source": [
        "## Texto usado é um trecho de uma artigo meu escrito durante o doutorado\n",
        "raw_text = \"A FEIRA DO IMPORTADOS NO DISTRITO FEDERAL E O CIRCUITO INFERIOR DA ECONOMIA URBANA 1. Introdução Pensar o espaço geográfico em tempos contemporâneos demanda a análise territorial de diferentes fenômenos sociais ligados à dinâmica das cidades, discutindo aquilo que Milton Santos caracteriza como Circuito Inferior da Economia Urbana. Nesta perspectiva, os diferentes fenômenos urbanos são vistos por meio da rede de relações entre os objetos e ações que os compõem (SANTOS, X), conforme se pode obsevar a partir das dinâmicas territoriais ligadas as feiras e comércios que marcam os espaços das cidades. \\Seguindo esta perspectiva geográfica, o presente trabalho tem como objetivo analisar o funcionamento da Feira dos Importados, localizada no Distrito Federal, também conhecida como Feirinha do Paraguai, buscando identificar as características do Circuito Inferior da Economia Urbana, conforme apontado por Milton Santos em sua obra “O Espaço Dividido” (SANTOS, X).No intento de compreender a dinâmica territorial da feira enquanto objeto de um circuito econômico, esta dissertativa se encontra dividida em três partes: a primeira realiza uma descrição da Feira dos Importados, marcando a presença de seus objeto e práticas espaciais ao apontar origem, localização, número de boxes em funcionamento, área utilizada. A segunda caracteriza o Circuito Inferior da Economia Urbana, com base em pesquisa bibliográfica que serve de base teórica à terceira etapa da discussão de dados, na qual, a partir de uma pesquisa realizada através de entrevistas feitas com trabalhadores, buscar-se-á identificá-las no funcionamento da Feira dos Importados.\\\n",
        "A partir das materialidades geográficas da feira, seus fixos e fluxos no território, serão analisadas como as características apontadas por Milton Santos para o Circuito Inferior da Economia Urbana são encontradas, total ou parcialmente, no funcionamento da chamada Feirinha do Paraguai, bem como seus desdobramentos territoriais. Assim, a metodologia trafega pela dinâmica fluida entre teoria e campo, caracterizada pelo trabalho geográfico de base no qual há constante diálogo entre os espaços sociais e seus determinantes territoriais.  Na análise entre os territórios normados a partir da existência da feira, verificar-se o movimento fomentado pelo Estado para ordenamento das atividades do circuito inferior (burocratização), verificando-se as condições de êxito e os pontos limitantes. Nesse ponto analisar-se-ão, principalmente, as questões relacionadas ao cumprimento das obrigações tributárias, trabalhistas e, principalmente, dada a sua relevância, no tocante à legalidade da atividade, com possíveis reflexos na regulação do espaço e suas consequências nas esferas administrativa e penal.\\\n",
        "2. A Feira dos Importados e sua inserção geográfica\\\n",
        "A Feira dos importados compõe uma importante marca urbana na paisagem de Brasília. Por isso, faz-se necessário uma boa compreensão técnica de sua estrutura para que se possa discutir porteriormente sua dinâmica territorial. Atualmente, localizada no Setor de Indústria e Abastecimento (SIA) – Sul, Trecho 7, Lotes 5 a 180, Setor de Comércio Especial, tem sua origem na feira popular, denominada então de Feirinha do Paraguai, que se formou espontaneamente na região central de Brasília/DF, próximo ao Estádio Mané Garrincha, por volta de meados dos anos 1990. Todavia, foi no ano de 1997 que a então denominada Feirinha do Paraguai foi transferida da área central para uma região fora do Plano Piloto e que pertencia à CEASA/DF, onde se localiza até hoje.\\\n",
        "A estes se somaram outros feirantes oriundos de diversas regiões do Distrito Federal (CONIG, Guará), para formar a hoje denominada Feira dos Importados. Ela ocupa uma área de aproximadamente 70.000 m², ao longo do qual estão distribuídos 1990 (mil novecentos e noventa) boxes e 96 (noventa e seis) quiosques, ocupados por 1758 (mil setecentos e cinquenta e oito) permissionários.\\\n",
        "É interessante ressaltar esta divisão entre quiosques e boxes, dois fixos geograficos que materializam a presença da feira no espaço brasiliense. Os quiosques ocupam as áreas externas do quadrilátero que forma a feira (os lados do quadrado) e caracterizam-se por abrigarem estabelecimentos comerciais de envergadura maior que os boxes, com um número superior de funcionários, embora sem se distanciarem das características do circuito inferior da economia urbana. Já os boxes são as unidades internas, divididas em corredores, ocupando a maior parte do espaço físico da feira. São estabelecimento de porte muito pequeno, contando com pouquíssimos funcionários, como se apresentará no tópico próprio, já referenciado no parágrafo acima.\\\n",
        "A diferença entre o número de espaços disponíveis e o total de permissionários é resultante da possibilidade de um mesmo permissionário utilizar mais de uma unidade adjacente, de modo a ampliarem seus negócios. Contudo, a pequena diferença de apenas 358, em um universo de 2.086, já demonstra que a maioria esmagadora de permissionários se utiliza tão somente de um único boxe, demonstrando a predominância dos comércios de tamanho reduzido.\\\n",
        "Nessa vasta área, são negociados os mais diversos tipos de produtos, incluindo produtos alimentares e roupas. Porém, a grande maioria dos quiosques se dedica à venda de produtos eletroeletrônicos e de informática, apresentando preços inferiores aos praticados nas grandes lojas do Distrito Federal. Vizualiza-se a seguir imagem de visão panorâmica da área ocupada pela feira dos importados:\"\n",
        "\n",
        "raw_text2 = \"É interessante ressaltar esta divisão entre quiosques e boxes, dois fixos geograficos que materializam a presença da feira no espaço brasiliense. Os quiosques ocupam as áreas externas do quadrilátero que forma a feira (os lados do quadrado) e caracterizam-se por abrigarem estabelecimentos comerciais de envergadura maior que os boxes, com um número superior de funcionários, embora sem se distanciarem das características do circuito inferior da economia urbana. Já os boxes são as unidades internas, divididas em corredores, ocupando a maior parte do espaço físico da feira. São estabelecimento de porte muito pequeno, contando com pouquíssimos funcionários, como se apresentará no tópico próprio, já referenciado no parágrafo acima.\\\n",
        "A diferença entre o número de espaços disponíveis e o total de permissionários é resultante da possibilidade de um mesmo permissionário utilizar mais de uma unidade adjacente, de modo a ampliarem seus negócios. Contudo, a pequena diferença de apenas 358, em um universo de 2.086, já demonstra que a maioria esmagadora de permissionários se utiliza tão somente de um único boxe, demonstrando a predominância dos comércios de tamanho reduzido.\\\n",
        "Nessa vasta área, são negociados os mais diversos tipos de produtos, incluindo produtos alimentares e roupas. Porém, a grande maioria dos\""
      ],
      "execution_count": 0,
      "outputs": []
    },
    {
      "cell_type": "markdown",
      "metadata": {
        "id": "5g8dx-e42HY7",
        "colab_type": "text"
      },
      "source": [
        "**Pipeline de processamento do spaCy**\n",
        "\n",
        "A primeira etapa para uma sequência de texto, ao trabalhar com spaCy, é passá-la para um objeto de PNL. Esse objeto é essencialmente um pipeline de várias operações de pré-processamento de texto através das quais a sequência de texto de entrada precisa passar.\n",
        "\n",
        "![image.png](data:image/png;base64,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)\n",
        "\n",
        "Fonte: Source: https://course.spacy.io/chapter3\n",
        "\n",
        "Como você pode ver na figura acima, o pipeline de PNL possui vários componentes, como tokenizer, tagger, analisador, ner, etc. Portanto, a sequência de texto de entrada precisa passar por todos esses componentes antes de podermos trabalhar nele."
      ]
    },
    {
      "cell_type": "code",
      "metadata": {
        "id": "zeXrWl2chnb0",
        "colab_type": "code",
        "colab": {}
      },
      "source": [
        "tokened_data = nlp (raw_text) ## Tokeniza o texto\n",
        "tokened_data2 = nlp (raw_text2)"
      ],
      "execution_count": 0,
      "outputs": []
    },
    {
      "cell_type": "code",
      "metadata": {
        "id": "ozCnd76ZiC7N",
        "colab_type": "code",
        "outputId": "4fe7d766-ad6c-407f-8fc6-2e5d74cbaf15",
        "colab": {
          "base_uri": "https://localhost:8080/",
          "height": 34
        }
      },
      "source": [
        "## vamos testar\n",
        "\n",
        "word = tokened_data[20]\n",
        "print (word.text, word.lower_)"
      ],
      "execution_count": 0,
      "outputs": [
        {
          "output_type": "stream",
          "text": [
            "geográfico geográfico\n"
          ],
          "name": "stdout"
        }
      ]
    },
    {
      "cell_type": "code",
      "metadata": {
        "id": "54dRHPhLu3O_",
        "colab_type": "code",
        "colab": {}
      },
      "source": [
        "tokened_data.shape"
      ],
      "execution_count": 0,
      "outputs": []
    },
    {
      "cell_type": "markdown",
      "metadata": {
        "id": "UhpmDbSqlqDP",
        "colab_type": "text"
      },
      "source": [
        "## Análise gramatical"
      ]
    },
    {
      "cell_type": "code",
      "metadata": {
        "id": "avRC4yaqi-Ye",
        "colab_type": "code",
        "outputId": "e847e6b9-b1aa-4f84-ea84-ec24a37a0203",
        "colab": {
          "base_uri": "https://localhost:8080/",
          "height": 230
        }
      },
      "source": [
        "for i,word in enumerate(tokened_data):\n",
        "    print(word.text, word.pos_)\n",
        "    if i > 10:\n",
        "        break"
      ],
      "execution_count": 0,
      "outputs": [
        {
          "output_type": "stream",
          "text": [
            "A DET\n",
            "FEIRA PROPN\n",
            "DO PROPN\n",
            "IMPORTADOS PROPN\n",
            "NO PROPN\n",
            "DISTRITO PROPN\n",
            "FEDERAL PROPN\n",
            "E PROPN\n",
            "O DET\n",
            "CIRCUITO PROPN\n",
            "INFERIOR PROPN\n",
            "DA PROPN\n"
          ],
          "name": "stdout"
        }
      ]
    },
    {
      "cell_type": "markdown",
      "metadata": {
        "id": "4O60wK1HmLvd",
        "colab_type": "text"
      },
      "source": [
        "Como as dez primeiras palavaras analisadas compõe o título do artigo, e estão escritas em letras maiúsculas o modelo as identificou como nome próprio"
      ]
    },
    {
      "cell_type": "code",
      "metadata": {
        "id": "Dw1_jM_tmKFN",
        "colab_type": "code",
        "outputId": "e2cb2d97-b925-44cc-9e9c-07c4dee9aec7",
        "colab": {
          "base_uri": "https://localhost:8080/",
          "height": 212
        }
      },
      "source": [
        "for i,word in enumerate(tokened_data):\n",
        "    if i > 70:\n",
        "        print(word.text, word.pos_)\n",
        "    if i > 80:\n",
        "        break"
      ],
      "execution_count": 0,
      "outputs": [
        {
          "output_type": "stream",
          "text": [
            "que PRON\n",
            "os DET\n",
            "compõem SYM\n",
            "( PUNCT\n",
            "SANTOS PROPN\n",
            ", PUNCT\n",
            "X NUM\n",
            ") PUNCT\n",
            ", PUNCT\n",
            "conforme ADV\n",
            "se PRON\n"
          ],
          "name": "stdout"
        }
      ]
    },
    {
      "cell_type": "markdown",
      "metadata": {
        "id": "hGBzvMiZm9T9",
        "colab_type": "text"
      },
      "source": [
        "Percebe-se acima um sensível melhora no classificação das palavras."
      ]
    },
    {
      "cell_type": "code",
      "metadata": {
        "id": "dTYJGaBWm6rN",
        "colab_type": "code",
        "outputId": "06610438-57b1-4172-ef5d-f96d4105f813",
        "colab": {
          "base_uri": "https://localhost:8080/",
          "height": 34
        }
      },
      "source": [
        "spacy.explain('PROPN') ## Explica a classe a que se refere a tag, no caso nome próprio"
      ],
      "execution_count": 0,
      "outputs": [
        {
          "output_type": "execute_result",
          "data": {
            "text/plain": [
              "'proper noun'"
            ]
          },
          "metadata": {
            "tags": []
          },
          "execution_count": 32
        }
      ]
    },
    {
      "cell_type": "code",
      "metadata": {
        "id": "zC3DPduEnWE_",
        "colab_type": "code",
        "outputId": "78017d1b-dbba-447e-f8ad-0f06e231264d",
        "colab": {
          "base_uri": "https://localhost:8080/",
          "height": 34
        }
      },
      "source": [
        "spacy.explain('DET') ## TAG em portuguÊs significa também artigo definido"
      ],
      "execution_count": 0,
      "outputs": [
        {
          "output_type": "execute_result",
          "data": {
            "text/plain": [
              "'determiner'"
            ]
          },
          "metadata": {
            "tags": []
          },
          "execution_count": 33
        }
      ]
    },
    {
      "cell_type": "code",
      "metadata": {
        "id": "jSpUdWfTopVp",
        "colab_type": "code",
        "outputId": "05f5d549-5862-41ce-d7ae-c548980b65d7",
        "colab": {
          "base_uri": "https://localhost:8080/",
          "height": 70
        }
      },
      "source": [
        "word = tokened_data2 [10]\n",
        "print ('palavra original', word.text)\n",
        "print ('Classe Gramatical:', word.pos_)\n",
        "print ('Análise da Tag:', word.tag_)"
      ],
      "execution_count": 0,
      "outputs": [
        {
          "output_type": "stream",
          "text": [
            "palavra original dois\n",
            "Classe Gramatical: NUM\n",
            "Análise da Tag: <card>|NUM|M|P|@>N\n"
          ],
          "name": "stdout"
        }
      ]
    },
    {
      "cell_type": "code",
      "metadata": {
        "id": "WSlcLu_LnzWB",
        "colab_type": "code",
        "outputId": "5df3c53b-a924-4aa6-d60b-adffeb571c1b",
        "colab": {
          "base_uri": "https://localhost:8080/",
          "height": 390
        }
      },
      "source": [
        "for i,word in enumerate(tokened_data2):\n",
        "    if i > 10:\n",
        "        print(word.text, word.tag_)\n",
        "    if i > 30:\n",
        "        break"
      ],
      "execution_count": 0,
      "outputs": [
        {
          "output_type": "stream",
          "text": [
            "fixos <NUM-ord>|ADJ|M|P|@>N\n",
            "geograficos ADJ|M|P|@N<\n",
            "que <rel>|INDP|M|P|@SUBJ>\n",
            "materializam <mv>|V|PR|3P|IND|@FS-N<\n",
            "a <artd>|ART|F|S|@>N\n",
            "presença <np-def>|N|F|S|@<ACC\n",
            "da ADP\n",
            "feira <np-idf>|N|F|S|@P<\n",
            "no PRP|@N<\n",
            "espaço <np-idf>|N|M|S|@P<\n",
            "brasiliense ADJ|M|S|@N<\n",
            ". PU|@PU\n",
            "Os <artd>|ART|M|P|@>N\n",
            "quiosques <np-def>|N|M|P|@SUBJ>\n",
            "ocupam <mv>|V|PR|3P|IND|@FS-STA\n",
            "as <artd>|ART|F|P|@>N\n",
            "áreas <np-def>|N|F|P|@<ACC\n",
            "externas ADJ|F|P|@N<\n",
            "do ADJ|F|P|@N<\n",
            "quadrilátero <np-idf>|N|M|S|@ACC>\n",
            "que <rel>|INDP|M|S|@SUBJ>\n"
          ],
          "name": "stdout"
        }
      ]
    },
    {
      "cell_type": "markdown",
      "metadata": {
        "id": "xvkUeR0epq7N",
        "colab_type": "text"
      },
      "source": [
        "As principais funções relacionadas a análise sintática são:\n",
        "Text: A palavra original do texto.\n",
        "\n",
        "Lemma: A raiz da palavra.\n",
        "\n",
        "POS: A classe gramatical da palavra.\n",
        "\n",
        "Tag: O detalhamento da classe gramatical tag.\n",
        "\n",
        "Dep: Dependência sintática, isto é, a relação entre os tokens.\n",
        "\n",
        "Shape: O formtao da palavra – letras maiúsculas, pontuação e dígitos.\n",
        "\n",
        "is alpha: O token é um carater alfabético?\n",
        "\n",
        "is stop: O token é um das stop words?\n",
        "\n",
        "ORTH\tO exato verabtim do token.\n",
        "\n",
        "TEXT\tO exato verabtim do token.\n",
        "\n",
        "LOWER\tO texto do token em minúsculas.\n",
        "\n",
        "LENGTH\tO número de caracteres do token.\n",
        "\n",
        "IS_ALPHA, IS_ASCII, IS_DIGIT\tbool\tToken text consists of alphabetic characters, ASCII characters, digits.\n",
        "\n",
        "IS_LOWER, IS_UPPER, IS_TITLE\tbool\tVerifica se o  token está em lowercase, uppercase, titlecase.\n",
        "\n",
        "IS_PUNCT, IS_SPACE\tbool\tVerifica se o token é pontuação ou espaço em branco.\n",
        "\n",
        "LIKE_NUM, LIKE_URL, LIKE_EMAIL\tbool\tSe o texto parece um número, URL, email.\n",
        "\n",
        "SHAPE\tunicode\tA tag de forma simples e estendida da análise gramatical."
      ]
    },
    {
      "cell_type": "code",
      "metadata": {
        "id": "U-1ZiFXnrH2d",
        "colab_type": "code",
        "outputId": "e47cd4ea-f3ca-435e-ec13-8834dc0c89c5",
        "colab": {
          "base_uri": "https://localhost:8080/",
          "height": 34
        }
      },
      "source": [
        "word = tokened_data2 [20]\n",
        "word.text"
      ],
      "execution_count": 0,
      "outputs": [
        {
          "output_type": "execute_result",
          "data": {
            "text/plain": [
              "'espaço'"
            ]
          },
          "metadata": {
            "tags": []
          },
          "execution_count": 41
        }
      ]
    },
    {
      "cell_type": "code",
      "metadata": {
        "id": "lVRTnZvpoSSg",
        "colab_type": "code",
        "outputId": "bb0e1406-ed7d-4ad1-9982-240ac9a192d3",
        "colab": {
          "base_uri": "https://localhost:8080/",
          "height": 34
        }
      },
      "source": [
        "word.lemma_"
      ],
      "execution_count": 0,
      "outputs": [
        {
          "output_type": "execute_result",
          "data": {
            "text/plain": [
              "'espaçar'"
            ]
          },
          "metadata": {
            "tags": []
          },
          "execution_count": 42
        }
      ]
    },
    {
      "cell_type": "code",
      "metadata": {
        "id": "xhZkUP1JrGGN",
        "colab_type": "code",
        "outputId": "d212571f-a02d-4040-f820-ffefc6941eb3",
        "colab": {
          "base_uri": "https://localhost:8080/",
          "height": 34
        }
      },
      "source": [
        "word.dep_"
      ],
      "execution_count": 0,
      "outputs": [
        {
          "output_type": "execute_result",
          "data": {
            "text/plain": [
              "'ROOT'"
            ]
          },
          "metadata": {
            "tags": []
          },
          "execution_count": 43
        }
      ]
    },
    {
      "cell_type": "code",
      "metadata": {
        "id": "S53YrJLErVMt",
        "colab_type": "code",
        "outputId": "7a5685ec-36c4-4da5-a2e7-2b43e0976ada",
        "colab": {
          "base_uri": "https://localhost:8080/",
          "height": 34
        }
      },
      "source": [
        "word.is_alpha"
      ],
      "execution_count": 0,
      "outputs": [
        {
          "output_type": "execute_result",
          "data": {
            "text/plain": [
              "True"
            ]
          },
          "metadata": {
            "tags": []
          },
          "execution_count": 44
        }
      ]
    },
    {
      "cell_type": "code",
      "metadata": {
        "id": "Zomx293ssS4O",
        "colab_type": "code",
        "outputId": "63bb6b67-92b9-4dbe-fa8a-8ed1349f0d23",
        "colab": {
          "base_uri": "https://localhost:8080/",
          "height": 34
        }
      },
      "source": [
        "word.is_stop"
      ],
      "execution_count": 0,
      "outputs": [
        {
          "output_type": "execute_result",
          "data": {
            "text/plain": [
              "False"
            ]
          },
          "metadata": {
            "tags": []
          },
          "execution_count": 45
        }
      ]
    },
    {
      "cell_type": "markdown",
      "metadata": {
        "id": "D_qXvq02scb4",
        "colab_type": "text"
      },
      "source": [
        "## Reconhecimento de Entitdades\n"
      ]
    },
    {
      "cell_type": "code",
      "metadata": {
        "id": "Ccm8HyufsW1v",
        "colab_type": "code",
        "outputId": "22ea70ec-e9b6-42ce-f72c-141a5999d470",
        "colab": {
          "base_uri": "https://localhost:8080/",
          "height": 567
        }
      },
      "source": [
        "for i,word in enumerate(tokened_data):\n",
        "    if i > 20 and word.ent_type!=0:\n",
        "        print(word.text, word.ent_type_)\n",
        "    if i > 200:\n",
        "        break"
      ],
      "execution_count": 0,
      "outputs": [
        {
          "output_type": "stream",
          "text": [
            "Milton PER\n",
            "Santos PER\n",
            "Circuito LOC\n",
            "Inferior LOC\n",
            "da LOC\n",
            "Economia LOC\n",
            "Urbana LOC\n",
            "SANTOS LOC\n",
            "X MISC\n",
            "Feira MISC\n",
            "dos MISC\n",
            "Importados MISC\n",
            "Distrito LOC\n",
            "Federal LOC\n",
            "Feirinha LOC\n",
            "do LOC\n",
            "Paraguai LOC\n",
            "Circuito LOC\n",
            "Inferior LOC\n",
            "da LOC\n",
            "Economia LOC\n",
            "Urbana LOC\n",
            "Milton PER\n",
            "Santos PER\n",
            "O MISC\n",
            "Espaço MISC\n",
            "Dividido MISC\n",
            "SANTOS LOC\n",
            "Feira LOC\n",
            "dos LOC\n",
            "Importados LOC\n"
          ],
          "name": "stdout"
        }
      ]
    },
    {
      "cell_type": "code",
      "metadata": {
        "id": "aocukYZPsuVX",
        "colab_type": "code",
        "outputId": "5584a771-e422-4368-e3fd-52781194e3e9",
        "colab": {
          "base_uri": "https://localhost:8080/",
          "height": 34
        }
      },
      "source": [
        "spacy.explain('MISC')"
      ],
      "execution_count": 0,
      "outputs": [
        {
          "output_type": "execute_result",
          "data": {
            "text/plain": [
              "'Miscellaneous entities, e.g. events, nationalities, products or works of art'"
            ]
          },
          "metadata": {
            "tags": []
          },
          "execution_count": 59
        }
      ]
    },
    {
      "cell_type": "markdown",
      "metadata": {
        "id": "a-LDlVYUwBQl",
        "colab_type": "text"
      },
      "source": [
        "Como se verifica o modelo fez uma extração razoável de entidades, tendo identificado a Feira dos Importados como um local e Milton Santos como pessoa.\n",
        "A classificação de O Espaço dividido como miscelânea é também interessante, já que se trata de fato de um conceito técnico baseado na obra de Milton Santos.\n",
        "Ressalte-se que, por se tratar de um texto acadêmico, com grau razoável de complexidade, pode-se considerar o resultado como satisfatório."
      ]
    },
    {
      "cell_type": "markdown",
      "metadata": {
        "id": "bYdTC5cjgEBI",
        "colab_type": "text"
      },
      "source": [
        "Segue abaixo uma forma de visualização das entidades extraídas com o uso do método displacy."
      ]
    },
    {
      "cell_type": "code",
      "metadata": {
        "id": "koml1olZMXlk",
        "colab_type": "code",
        "colab": {
          "base_uri": "https://localhost:8080/",
          "height": 705
        },
        "outputId": "da1524e3-3fa5-4150-ca11-14d26f37e1b3"
      },
      "source": [
        "spacy.displacy.render(tokened_data, style='ent', jupyter=True)\n"
      ],
      "execution_count": 104,
      "outputs": [
        {
          "output_type": "display_data",
          "data": {
            "text/html": [
              "<span class=\"tex2jax_ignore\"><div class=\"entities\" style=\"line-height: 2.5; direction: ltr\">A \n",
              "<mark class=\"entity\" style=\"background: #7aecec; padding: 0.45em 0.6em; margin: 0 0.25em; line-height: 1; border-radius: 0.35em;\">\n",
              "    FEIRA\n",
              "    <span style=\"font-size: 0.8em; font-weight: bold; line-height: 1; border-radius: 0.35em; text-transform: uppercase; vertical-align: middle; margin-left: 0.5rem\">ORG</span>\n",
              "</mark>\n",
              " DO \n",
              "<mark class=\"entity\" style=\"background: #ddd; padding: 0.45em 0.6em; margin: 0 0.25em; line-height: 1; border-radius: 0.35em;\">\n",
              "    IMPORTADOS NO DISTRITO FEDERAL\n",
              "    <span style=\"font-size: 0.8em; font-weight: bold; line-height: 1; border-radius: 0.35em; text-transform: uppercase; vertical-align: middle; margin-left: 0.5rem\">MISC</span>\n",
              "</mark>\n",
              " E O CIRCUITO INFERIOR DA \n",
              "<mark class=\"entity\" style=\"background: #ddd; padding: 0.45em 0.6em; margin: 0 0.25em; line-height: 1; border-radius: 0.35em;\">\n",
              "    ECONOMIA\n",
              "    <span style=\"font-size: 0.8em; font-weight: bold; line-height: 1; border-radius: 0.35em; text-transform: uppercase; vertical-align: middle; margin-left: 0.5rem\">MISC</span>\n",
              "</mark>\n",
              " URBANA 1. Introdução Pensar o espaço geográfico em tempos contemporâneos demanda a análise territorial de diferentes fenômenos sociais ligados à dinâmica das cidades, discutindo aquilo que \n",
              "<mark class=\"entity\" style=\"background: #ddd; padding: 0.45em 0.6em; margin: 0 0.25em; line-height: 1; border-radius: 0.35em;\">\n",
              "    Milton Santos\n",
              "    <span style=\"font-size: 0.8em; font-weight: bold; line-height: 1; border-radius: 0.35em; text-transform: uppercase; vertical-align: middle; margin-left: 0.5rem\">PER</span>\n",
              "</mark>\n",
              " caracteriza como \n",
              "<mark class=\"entity\" style=\"background: #ff9561; padding: 0.45em 0.6em; margin: 0 0.25em; line-height: 1; border-radius: 0.35em;\">\n",
              "    Circuito Inferior da Economia Urbana\n",
              "    <span style=\"font-size: 0.8em; font-weight: bold; line-height: 1; border-radius: 0.35em; text-transform: uppercase; vertical-align: middle; margin-left: 0.5rem\">LOC</span>\n",
              "</mark>\n",
              ". Nesta perspectiva, os diferentes fenômenos urbanos são vistos por meio da rede de relações entre os objetos e ações que os compõem (\n",
              "<mark class=\"entity\" style=\"background: #ff9561; padding: 0.45em 0.6em; margin: 0 0.25em; line-height: 1; border-radius: 0.35em;\">\n",
              "    SANTOS\n",
              "    <span style=\"font-size: 0.8em; font-weight: bold; line-height: 1; border-radius: 0.35em; text-transform: uppercase; vertical-align: middle; margin-left: 0.5rem\">LOC</span>\n",
              "</mark>\n",
              ", \n",
              "<mark class=\"entity\" style=\"background: #ddd; padding: 0.45em 0.6em; margin: 0 0.25em; line-height: 1; border-radius: 0.35em;\">\n",
              "    X\n",
              "    <span style=\"font-size: 0.8em; font-weight: bold; line-height: 1; border-radius: 0.35em; text-transform: uppercase; vertical-align: middle; margin-left: 0.5rem\">MISC</span>\n",
              "</mark>\n",
              "), conforme se pode obsevar a partir das dinâmicas territoriais ligadas as feiras e comércios que marcam os espaços das cidades. \\Seguindo esta perspectiva geográfica, o presente trabalho tem como objetivo analisar o funcionamento da \n",
              "<mark class=\"entity\" style=\"background: #ddd; padding: 0.45em 0.6em; margin: 0 0.25em; line-height: 1; border-radius: 0.35em;\">\n",
              "    Feira dos Importados\n",
              "    <span style=\"font-size: 0.8em; font-weight: bold; line-height: 1; border-radius: 0.35em; text-transform: uppercase; vertical-align: middle; margin-left: 0.5rem\">MISC</span>\n",
              "</mark>\n",
              ", localizada no \n",
              "<mark class=\"entity\" style=\"background: #ff9561; padding: 0.45em 0.6em; margin: 0 0.25em; line-height: 1; border-radius: 0.35em;\">\n",
              "    Distrito Federal\n",
              "    <span style=\"font-size: 0.8em; font-weight: bold; line-height: 1; border-radius: 0.35em; text-transform: uppercase; vertical-align: middle; margin-left: 0.5rem\">LOC</span>\n",
              "</mark>\n",
              ", também conhecida como \n",
              "<mark class=\"entity\" style=\"background: #ff9561; padding: 0.45em 0.6em; margin: 0 0.25em; line-height: 1; border-radius: 0.35em;\">\n",
              "    Feirinha do Paraguai\n",
              "    <span style=\"font-size: 0.8em; font-weight: bold; line-height: 1; border-radius: 0.35em; text-transform: uppercase; vertical-align: middle; margin-left: 0.5rem\">LOC</span>\n",
              "</mark>\n",
              ", buscando identificar as características do \n",
              "<mark class=\"entity\" style=\"background: #ff9561; padding: 0.45em 0.6em; margin: 0 0.25em; line-height: 1; border-radius: 0.35em;\">\n",
              "    Circuito Inferior da Economia Urbana\n",
              "    <span style=\"font-size: 0.8em; font-weight: bold; line-height: 1; border-radius: 0.35em; text-transform: uppercase; vertical-align: middle; margin-left: 0.5rem\">LOC</span>\n",
              "</mark>\n",
              ", conforme apontado por \n",
              "<mark class=\"entity\" style=\"background: #ddd; padding: 0.45em 0.6em; margin: 0 0.25em; line-height: 1; border-radius: 0.35em;\">\n",
              "    Milton Santos\n",
              "    <span style=\"font-size: 0.8em; font-weight: bold; line-height: 1; border-radius: 0.35em; text-transform: uppercase; vertical-align: middle; margin-left: 0.5rem\">PER</span>\n",
              "</mark>\n",
              " em sua obra “\n",
              "<mark class=\"entity\" style=\"background: #ddd; padding: 0.45em 0.6em; margin: 0 0.25em; line-height: 1; border-radius: 0.35em;\">\n",
              "    O Espaço Dividido\n",
              "    <span style=\"font-size: 0.8em; font-weight: bold; line-height: 1; border-radius: 0.35em; text-transform: uppercase; vertical-align: middle; margin-left: 0.5rem\">MISC</span>\n",
              "</mark>\n",
              "” (\n",
              "<mark class=\"entity\" style=\"background: #ff9561; padding: 0.45em 0.6em; margin: 0 0.25em; line-height: 1; border-radius: 0.35em;\">\n",
              "    SANTOS\n",
              "    <span style=\"font-size: 0.8em; font-weight: bold; line-height: 1; border-radius: 0.35em; text-transform: uppercase; vertical-align: middle; margin-left: 0.5rem\">LOC</span>\n",
              "</mark>\n",
              ", X).No intento de compreender a dinâmica territorial da feira enquanto objeto de um circuito econômico, esta dissertativa se encontra dividida em três partes: a primeira realiza uma descrição da \n",
              "<mark class=\"entity\" style=\"background: #ff9561; padding: 0.45em 0.6em; margin: 0 0.25em; line-height: 1; border-radius: 0.35em;\">\n",
              "    Feira dos Importados\n",
              "    <span style=\"font-size: 0.8em; font-weight: bold; line-height: 1; border-radius: 0.35em; text-transform: uppercase; vertical-align: middle; margin-left: 0.5rem\">LOC</span>\n",
              "</mark>\n",
              ", marcando a presença de seus objeto e práticas espaciais ao apontar origem, localização, número de boxes em funcionamento, área utilizada. A segunda caracteriza o \n",
              "<mark class=\"entity\" style=\"background: #ff9561; padding: 0.45em 0.6em; margin: 0 0.25em; line-height: 1; border-radius: 0.35em;\">\n",
              "    Circuito Inferior da Economia Urbana\n",
              "    <span style=\"font-size: 0.8em; font-weight: bold; line-height: 1; border-radius: 0.35em; text-transform: uppercase; vertical-align: middle; margin-left: 0.5rem\">LOC</span>\n",
              "</mark>\n",
              ", com base em pesquisa bibliográfica que serve de base teórica à terceira etapa da discussão de dados, na qual, a partir de uma pesquisa realizada através de entrevistas feitas com trabalhadores, buscar-se-á identificá-las no funcionamento da \n",
              "<mark class=\"entity\" style=\"background: #ff9561; padding: 0.45em 0.6em; margin: 0 0.25em; line-height: 1; border-radius: 0.35em;\">\n",
              "    Feira dos Importados\n",
              "    <span style=\"font-size: 0.8em; font-weight: bold; line-height: 1; border-radius: 0.35em; text-transform: uppercase; vertical-align: middle; margin-left: 0.5rem\">LOC</span>\n",
              "</mark>\n",
              ".A partir das materialidades geográficas da feira, seus fixos e fluxos no território, serão analisadas como as características apontadas por \n",
              "<mark class=\"entity\" style=\"background: #ddd; padding: 0.45em 0.6em; margin: 0 0.25em; line-height: 1; border-radius: 0.35em;\">\n",
              "    Milton Santos\n",
              "    <span style=\"font-size: 0.8em; font-weight: bold; line-height: 1; border-radius: 0.35em; text-transform: uppercase; vertical-align: middle; margin-left: 0.5rem\">PER</span>\n",
              "</mark>\n",
              " para o \n",
              "<mark class=\"entity\" style=\"background: #ff9561; padding: 0.45em 0.6em; margin: 0 0.25em; line-height: 1; border-radius: 0.35em;\">\n",
              "    Circuito Inferior da Economia Urbana\n",
              "    <span style=\"font-size: 0.8em; font-weight: bold; line-height: 1; border-radius: 0.35em; text-transform: uppercase; vertical-align: middle; margin-left: 0.5rem\">LOC</span>\n",
              "</mark>\n",
              " são encontradas, total ou parcialmente, no funcionamento da chamada \n",
              "<mark class=\"entity\" style=\"background: #ddd; padding: 0.45em 0.6em; margin: 0 0.25em; line-height: 1; border-radius: 0.35em;\">\n",
              "    Feirinha do Paraguai\n",
              "    <span style=\"font-size: 0.8em; font-weight: bold; line-height: 1; border-radius: 0.35em; text-transform: uppercase; vertical-align: middle; margin-left: 0.5rem\">MISC</span>\n",
              "</mark>\n",
              ", bem como seus desdobramentos territoriais. Assim, a metodologia trafega pela dinâmica fluida entre teoria e campo, caracterizada pelo trabalho geográfico de base no qual há constante diálogo entre os espaços sociais e seus determinantes territoriais.  Na análise entre os territórios normados a partir da existência da feira, verificar-se o movimento fomentado pelo \n",
              "<mark class=\"entity\" style=\"background: #ff9561; padding: 0.45em 0.6em; margin: 0 0.25em; line-height: 1; border-radius: 0.35em;\">\n",
              "    Estado\n",
              "    <span style=\"font-size: 0.8em; font-weight: bold; line-height: 1; border-radius: 0.35em; text-transform: uppercase; vertical-align: middle; margin-left: 0.5rem\">LOC</span>\n",
              "</mark>\n",
              " para ordenamento das atividades do circuito inferior (burocratização), verificando-se as condições de êxito e os pontos limitantes. Nesse ponto analisar-se-ão, principalmente, as questões relacionadas ao cumprimento das obrigações tributárias, trabalhistas e, principalmente, dada a sua relevância, no tocante à legalidade da atividade, com possíveis reflexos na regulação do espaço e suas consequências nas esferas administrativa e penal.2. A \n",
              "<mark class=\"entity\" style=\"background: #7aecec; padding: 0.45em 0.6em; margin: 0 0.25em; line-height: 1; border-radius: 0.35em;\">\n",
              "    Feira dos Importados\n",
              "    <span style=\"font-size: 0.8em; font-weight: bold; line-height: 1; border-radius: 0.35em; text-transform: uppercase; vertical-align: middle; margin-left: 0.5rem\">ORG</span>\n",
              "</mark>\n",
              " e sua inserção geográficaA \n",
              "<mark class=\"entity\" style=\"background: #ff9561; padding: 0.45em 0.6em; margin: 0 0.25em; line-height: 1; border-radius: 0.35em;\">\n",
              "    Feira\n",
              "    <span style=\"font-size: 0.8em; font-weight: bold; line-height: 1; border-radius: 0.35em; text-transform: uppercase; vertical-align: middle; margin-left: 0.5rem\">LOC</span>\n",
              "</mark>\n",
              " dos importados compõe uma importante marca urbana na paisagem de \n",
              "<mark class=\"entity\" style=\"background: #ff9561; padding: 0.45em 0.6em; margin: 0 0.25em; line-height: 1; border-radius: 0.35em;\">\n",
              "    Brasília\n",
              "    <span style=\"font-size: 0.8em; font-weight: bold; line-height: 1; border-radius: 0.35em; text-transform: uppercase; vertical-align: middle; margin-left: 0.5rem\">LOC</span>\n",
              "</mark>\n",
              ". Por isso, faz-se necessário uma boa compreensão técnica de sua estrutura para que se possa discutir porteriormente sua dinâmica territorial. Atualmente, localizada no \n",
              "<mark class=\"entity\" style=\"background: #ff9561; padding: 0.45em 0.6em; margin: 0 0.25em; line-height: 1; border-radius: 0.35em;\">\n",
              "    Setor de Indústria e Abastecimento\n",
              "    <span style=\"font-size: 0.8em; font-weight: bold; line-height: 1; border-radius: 0.35em; text-transform: uppercase; vertical-align: middle; margin-left: 0.5rem\">LOC</span>\n",
              "</mark>\n",
              " (\n",
              "<mark class=\"entity\" style=\"background: #7aecec; padding: 0.45em 0.6em; margin: 0 0.25em; line-height: 1; border-radius: 0.35em;\">\n",
              "    SIA\n",
              "    <span style=\"font-size: 0.8em; font-weight: bold; line-height: 1; border-radius: 0.35em; text-transform: uppercase; vertical-align: middle; margin-left: 0.5rem\">ORG</span>\n",
              "</mark>\n",
              ") – \n",
              "<mark class=\"entity\" style=\"background: #ff9561; padding: 0.45em 0.6em; margin: 0 0.25em; line-height: 1; border-radius: 0.35em;\">\n",
              "    Sul\n",
              "    <span style=\"font-size: 0.8em; font-weight: bold; line-height: 1; border-radius: 0.35em; text-transform: uppercase; vertical-align: middle; margin-left: 0.5rem\">LOC</span>\n",
              "</mark>\n",
              ", \n",
              "<mark class=\"entity\" style=\"background: #ddd; padding: 0.45em 0.6em; margin: 0 0.25em; line-height: 1; border-radius: 0.35em;\">\n",
              "    Trecho 7\n",
              "    <span style=\"font-size: 0.8em; font-weight: bold; line-height: 1; border-radius: 0.35em; text-transform: uppercase; vertical-align: middle; margin-left: 0.5rem\">MISC</span>\n",
              "</mark>\n",
              ", \n",
              "<mark class=\"entity\" style=\"background: #ddd; padding: 0.45em 0.6em; margin: 0 0.25em; line-height: 1; border-radius: 0.35em;\">\n",
              "    Lotes 5\n",
              "    <span style=\"font-size: 0.8em; font-weight: bold; line-height: 1; border-radius: 0.35em; text-transform: uppercase; vertical-align: middle; margin-left: 0.5rem\">MISC</span>\n",
              "</mark>\n",
              " a 180, \n",
              "<mark class=\"entity\" style=\"background: #ddd; padding: 0.45em 0.6em; margin: 0 0.25em; line-height: 1; border-radius: 0.35em;\">\n",
              "    Setor de Comércio Especial\n",
              "    <span style=\"font-size: 0.8em; font-weight: bold; line-height: 1; border-radius: 0.35em; text-transform: uppercase; vertical-align: middle; margin-left: 0.5rem\">MISC</span>\n",
              "</mark>\n",
              ", tem sua origem na feira popular, denominada então de \n",
              "<mark class=\"entity\" style=\"background: #ddd; padding: 0.45em 0.6em; margin: 0 0.25em; line-height: 1; border-radius: 0.35em;\">\n",
              "    Feirinha do Paraguai\n",
              "    <span style=\"font-size: 0.8em; font-weight: bold; line-height: 1; border-radius: 0.35em; text-transform: uppercase; vertical-align: middle; margin-left: 0.5rem\">MISC</span>\n",
              "</mark>\n",
              ", que se formou espontaneamente na região central de \n",
              "<mark class=\"entity\" style=\"background: #ff9561; padding: 0.45em 0.6em; margin: 0 0.25em; line-height: 1; border-radius: 0.35em;\">\n",
              "    Brasília\n",
              "    <span style=\"font-size: 0.8em; font-weight: bold; line-height: 1; border-radius: 0.35em; text-transform: uppercase; vertical-align: middle; margin-left: 0.5rem\">LOC</span>\n",
              "</mark>\n",
              "/\n",
              "<mark class=\"entity\" style=\"background: #ff9561; padding: 0.45em 0.6em; margin: 0 0.25em; line-height: 1; border-radius: 0.35em;\">\n",
              "    DF\n",
              "    <span style=\"font-size: 0.8em; font-weight: bold; line-height: 1; border-radius: 0.35em; text-transform: uppercase; vertical-align: middle; margin-left: 0.5rem\">LOC</span>\n",
              "</mark>\n",
              ", próximo ao \n",
              "<mark class=\"entity\" style=\"background: #ff9561; padding: 0.45em 0.6em; margin: 0 0.25em; line-height: 1; border-radius: 0.35em;\">\n",
              "    Estádio Mané Garrincha\n",
              "    <span style=\"font-size: 0.8em; font-weight: bold; line-height: 1; border-radius: 0.35em; text-transform: uppercase; vertical-align: middle; margin-left: 0.5rem\">LOC</span>\n",
              "</mark>\n",
              ", por volta de meados dos anos 1990. Todavia, foi no ano de 1997 que a então denominada \n",
              "<mark class=\"entity\" style=\"background: #ddd; padding: 0.45em 0.6em; margin: 0 0.25em; line-height: 1; border-radius: 0.35em;\">\n",
              "    Feirinha do Paraguai\n",
              "    <span style=\"font-size: 0.8em; font-weight: bold; line-height: 1; border-radius: 0.35em; text-transform: uppercase; vertical-align: middle; margin-left: 0.5rem\">MISC</span>\n",
              "</mark>\n",
              " foi transferida da área central para uma região fora do \n",
              "<mark class=\"entity\" style=\"background: #ff9561; padding: 0.45em 0.6em; margin: 0 0.25em; line-height: 1; border-radius: 0.35em;\">\n",
              "    Plano Piloto\n",
              "    <span style=\"font-size: 0.8em; font-weight: bold; line-height: 1; border-radius: 0.35em; text-transform: uppercase; vertical-align: middle; margin-left: 0.5rem\">LOC</span>\n",
              "</mark>\n",
              " e que pertencia à \n",
              "<mark class=\"entity\" style=\"background: #7aecec; padding: 0.45em 0.6em; margin: 0 0.25em; line-height: 1; border-radius: 0.35em;\">\n",
              "    CEASA\n",
              "    <span style=\"font-size: 0.8em; font-weight: bold; line-height: 1; border-radius: 0.35em; text-transform: uppercase; vertical-align: middle; margin-left: 0.5rem\">ORG</span>\n",
              "</mark>\n",
              "/\n",
              "<mark class=\"entity\" style=\"background: #ff9561; padding: 0.45em 0.6em; margin: 0 0.25em; line-height: 1; border-radius: 0.35em;\">\n",
              "    DF\n",
              "    <span style=\"font-size: 0.8em; font-weight: bold; line-height: 1; border-radius: 0.35em; text-transform: uppercase; vertical-align: middle; margin-left: 0.5rem\">LOC</span>\n",
              "</mark>\n",
              ", onde se localiza até hoje.A estes se somaram outros feirantes oriundos de diversas regiões do \n",
              "<mark class=\"entity\" style=\"background: #ff9561; padding: 0.45em 0.6em; margin: 0 0.25em; line-height: 1; border-radius: 0.35em;\">\n",
              "    Distrito Federal\n",
              "    <span style=\"font-size: 0.8em; font-weight: bold; line-height: 1; border-radius: 0.35em; text-transform: uppercase; vertical-align: middle; margin-left: 0.5rem\">LOC</span>\n",
              "</mark>\n",
              " (\n",
              "<mark class=\"entity\" style=\"background: #ff9561; padding: 0.45em 0.6em; margin: 0 0.25em; line-height: 1; border-radius: 0.35em;\">\n",
              "    CONIG\n",
              "    <span style=\"font-size: 0.8em; font-weight: bold; line-height: 1; border-radius: 0.35em; text-transform: uppercase; vertical-align: middle; margin-left: 0.5rem\">LOC</span>\n",
              "</mark>\n",
              ", \n",
              "<mark class=\"entity\" style=\"background: #7aecec; padding: 0.45em 0.6em; margin: 0 0.25em; line-height: 1; border-radius: 0.35em;\">\n",
              "    Guará\n",
              "    <span style=\"font-size: 0.8em; font-weight: bold; line-height: 1; border-radius: 0.35em; text-transform: uppercase; vertical-align: middle; margin-left: 0.5rem\">ORG</span>\n",
              "</mark>\n",
              "), para formar a hoje denominada \n",
              "<mark class=\"entity\" style=\"background: #ff9561; padding: 0.45em 0.6em; margin: 0 0.25em; line-height: 1; border-radius: 0.35em;\">\n",
              "    Feira dos Importados\n",
              "    <span style=\"font-size: 0.8em; font-weight: bold; line-height: 1; border-radius: 0.35em; text-transform: uppercase; vertical-align: middle; margin-left: 0.5rem\">LOC</span>\n",
              "</mark>\n",
              ". Ela ocupa uma área de aproximadamente 70.000 m², ao longo do qual estão distribuídos 1990 (mil novecentos e noventa) boxes e 96 (noventa e seis) quiosques, ocupados por 1758 (mil setecentos e cinquenta e oito) permissionários.É interessante ressaltar esta divisão entre quiosques e boxes, dois fixos geograficos que materializam a presença da feira no espaço brasiliense. Os quiosques ocupam as áreas externas do quadrilátero que forma a feira (os lados do quadrado) e caracterizam-se por abrigarem estabelecimentos comerciais de envergadura maior que os boxes, com um número superior de funcionários, embora sem se distanciarem das características do circuito inferior da economia urbana. Já os boxes são as unidades internas, divididas em corredores, ocupando a maior parte do espaço físico da feira. São estabelecimento de porte muito pequeno, contando com pouquíssimos funcionários, como se apresentará no tópico próprio, já referenciado no parágrafo acima.A diferença entre o número de espaços disponíveis e o total de permissionários é resultante da possibilidade de um mesmo permissionário utilizar mais de uma unidade adjacente, de modo a ampliarem seus negócios. Contudo, a pequena diferença de apenas 358, em um universo de 2.086, já demonstra que a maioria esmagadora de permissionários se utiliza tão somente de um único boxe, demonstrando a predominância dos comércios de tamanho reduzido.Nessa vasta área, são negociados os mais diversos tipos de produtos, incluindo produtos alimentares e roupas. Porém, a grande maioria dos quiosques se dedica à venda de produtos eletroeletrônicos e de informática, apresentando preços inferiores aos praticados nas grandes lojas do \n",
              "<mark class=\"entity\" style=\"background: #ff9561; padding: 0.45em 0.6em; margin: 0 0.25em; line-height: 1; border-radius: 0.35em;\">\n",
              "    Distrito Federal\n",
              "    <span style=\"font-size: 0.8em; font-weight: bold; line-height: 1; border-radius: 0.35em; text-transform: uppercase; vertical-align: middle; margin-left: 0.5rem\">LOC</span>\n",
              "</mark>\n",
              ". Vizualiza-se a seguir imagem de visão panorâmica da área ocupada pela feira dos importados:</div></span>"
            ],
            "text/plain": [
              "<IPython.core.display.HTML object>"
            ]
          },
          "metadata": {
            "tags": []
          }
        }
      ]
    },
    {
      "cell_type": "markdown",
      "metadata": {
        "id": "vivojZ_3w6aR",
        "colab_type": "text"
      },
      "source": [
        "##Análise sintática\n",
        "Análise Sintática (Syntactic parsing) é o processo de representar as dependências do texto através das relações entre os tokens. Por exemplo: um artigo está ligado a um substantivo, um advérbio modifica um verbo, e por ai vai."
      ]
    },
    {
      "cell_type": "code",
      "metadata": {
        "id": "bc_I48Xlv2tM",
        "colab_type": "code",
        "outputId": "d0f465ea-3006-4fdc-f8f4-79a04eec9c7d",
        "colab": {
          "base_uri": "https://localhost:8080/",
          "height": 212
        }
      },
      "source": [
        "for i,word in enumerate(tokened_data):\n",
        "    if i > 20:\n",
        "        print(word.text, word.dep_)\n",
        "    if i > 30:\n",
        "        break"
      ],
      "execution_count": 0,
      "outputs": [
        {
          "output_type": "stream",
          "text": [
            "em case\n",
            "tempos obl\n",
            "contemporâneos amod\n",
            "demanda ROOT\n",
            "a det\n",
            "análise obj\n",
            "territorial amod\n",
            "de case\n",
            "diferentes det\n",
            "fenômenos nmod\n",
            "sociais amod\n"
          ],
          "name": "stdout"
        }
      ]
    },
    {
      "cell_type": "code",
      "metadata": {
        "id": "VjNedcq1xYTl",
        "colab_type": "code",
        "outputId": "46c04105-44c2-4961-c90f-7ef4fba97bdd",
        "colab": {
          "base_uri": "https://localhost:8080/",
          "height": 34
        }
      },
      "source": [
        "spacy.explain('amod') # adjunto adnominal"
      ],
      "execution_count": 0,
      "outputs": [
        {
          "output_type": "execute_result",
          "data": {
            "text/plain": [
              "'adjectival modifier'"
            ]
          },
          "metadata": {
            "tags": []
          },
          "execution_count": 61
        }
      ]
    },
    {
      "cell_type": "code",
      "metadata": {
        "id": "YCo3awbbxbMG",
        "colab_type": "code",
        "outputId": "033ebd7c-b6c7-4e37-816c-283343080afb",
        "colab": {
          "base_uri": "https://localhost:8080/",
          "height": 34
        }
      },
      "source": [
        "spacy.explain('case')"
      ],
      "execution_count": 0,
      "outputs": [
        {
          "output_type": "execute_result",
          "data": {
            "text/plain": [
              "'case marking'"
            ]
          },
          "metadata": {
            "tags": []
          },
          "execution_count": 62
        }
      ]
    },
    {
      "cell_type": "code",
      "metadata": {
        "id": "s50QEmBOx2lI",
        "colab_type": "code",
        "outputId": "0355a973-e51a-4084-dbf7-c4f01fcbe703",
        "colab": {
          "base_uri": "https://localhost:8080/",
          "height": 34
        }
      },
      "source": [
        "spacy.explain('obl')"
      ],
      "execution_count": 0,
      "outputs": [
        {
          "output_type": "execute_result",
          "data": {
            "text/plain": [
              "'oblique nominal'"
            ]
          },
          "metadata": {
            "tags": []
          },
          "execution_count": 63
        }
      ]
    },
    {
      "cell_type": "code",
      "metadata": {
        "id": "89VciXC6x5iv",
        "colab_type": "code",
        "outputId": "57fd4be5-7875-4d23-d677-fc3c940edf80",
        "colab": {
          "base_uri": "https://localhost:8080/",
          "height": 34
        }
      },
      "source": [
        "spacy.explain('nmod')"
      ],
      "execution_count": 0,
      "outputs": [
        {
          "output_type": "execute_result",
          "data": {
            "text/plain": [
              "'modifier of nominal'"
            ]
          },
          "metadata": {
            "tags": []
          },
          "execution_count": 64
        }
      ]
    },
    {
      "cell_type": "code",
      "metadata": {
        "id": "j2qIBQ1k0Rhk",
        "colab_type": "code",
        "colab": {}
      },
      "source": [
        "texto = 'o espaço geográfico em tempos contemporâneos demanda a análise territorial de diferentes fenômenos sociais ligados à dinâmica das cidades'\n",
        "texto = nlp(texto)"
      ],
      "execution_count": 0,
      "outputs": []
    },
    {
      "cell_type": "code",
      "metadata": {
        "id": "OmfkcUOu0CHi",
        "colab_type": "code",
        "outputId": "c91bf554-7116-4613-e62b-c9847cd7491b",
        "colab": {
          "base_uri": "https://localhost:8080/",
          "height": 615
        }
      },
      "source": [
        "spacy.displacy.render(texto, style='dep', jupyter=True)"
      ],
      "execution_count": 91,
      "outputs": [
        {
          "output_type": "display_data",
          "data": {
            "text/html": [
              "<span class=\"tex2jax_ignore\"><svg xmlns=\"http://www.w3.org/2000/svg\" xmlns:xlink=\"http://www.w3.org/1999/xlink\" xml:lang=\"pt\" id=\"d0e28a492d394243a2ef8edebd5ec239-0\" class=\"displacy\" width=\"3375\" height=\"574.5\" direction=\"ltr\" style=\"max-width: none; height: 574.5px; color: #000000; background: #ffffff; font-family: Arial; direction: ltr\">\n",
              "<text class=\"displacy-token\" fill=\"currentColor\" text-anchor=\"middle\" y=\"484.5\">\n",
              "    <tspan class=\"displacy-word\" fill=\"currentColor\" x=\"50\">o</tspan>\n",
              "    <tspan class=\"displacy-tag\" dy=\"2em\" fill=\"currentColor\" x=\"50\">DET</tspan>\n",
              "</text>\n",
              "\n",
              "<text class=\"displacy-token\" fill=\"currentColor\" text-anchor=\"middle\" y=\"484.5\">\n",
              "    <tspan class=\"displacy-word\" fill=\"currentColor\" x=\"225\">espaço</tspan>\n",
              "    <tspan class=\"displacy-tag\" dy=\"2em\" fill=\"currentColor\" x=\"225\">NOUN</tspan>\n",
              "</text>\n",
              "\n",
              "<text class=\"displacy-token\" fill=\"currentColor\" text-anchor=\"middle\" y=\"484.5\">\n",
              "    <tspan class=\"displacy-word\" fill=\"currentColor\" x=\"400\">geográfico</tspan>\n",
              "    <tspan class=\"displacy-tag\" dy=\"2em\" fill=\"currentColor\" x=\"400\">ADJ</tspan>\n",
              "</text>\n",
              "\n",
              "<text class=\"displacy-token\" fill=\"currentColor\" text-anchor=\"middle\" y=\"484.5\">\n",
              "    <tspan class=\"displacy-word\" fill=\"currentColor\" x=\"575\">em</tspan>\n",
              "    <tspan class=\"displacy-tag\" dy=\"2em\" fill=\"currentColor\" x=\"575\">ADP</tspan>\n",
              "</text>\n",
              "\n",
              "<text class=\"displacy-token\" fill=\"currentColor\" text-anchor=\"middle\" y=\"484.5\">\n",
              "    <tspan class=\"displacy-word\" fill=\"currentColor\" x=\"750\">tempos</tspan>\n",
              "    <tspan class=\"displacy-tag\" dy=\"2em\" fill=\"currentColor\" x=\"750\">NOUN</tspan>\n",
              "</text>\n",
              "\n",
              "<text class=\"displacy-token\" fill=\"currentColor\" text-anchor=\"middle\" y=\"484.5\">\n",
              "    <tspan class=\"displacy-word\" fill=\"currentColor\" x=\"925\">contemporâneos</tspan>\n",
              "    <tspan class=\"displacy-tag\" dy=\"2em\" fill=\"currentColor\" x=\"925\">ADJ</tspan>\n",
              "</text>\n",
              "\n",
              "<text class=\"displacy-token\" fill=\"currentColor\" text-anchor=\"middle\" y=\"484.5\">\n",
              "    <tspan class=\"displacy-word\" fill=\"currentColor\" x=\"1100\">demanda</tspan>\n",
              "    <tspan class=\"displacy-tag\" dy=\"2em\" fill=\"currentColor\" x=\"1100\">NOUN</tspan>\n",
              "</text>\n",
              "\n",
              "<text class=\"displacy-token\" fill=\"currentColor\" text-anchor=\"middle\" y=\"484.5\">\n",
              "    <tspan class=\"displacy-word\" fill=\"currentColor\" x=\"1275\">a</tspan>\n",
              "    <tspan class=\"displacy-tag\" dy=\"2em\" fill=\"currentColor\" x=\"1275\">DET</tspan>\n",
              "</text>\n",
              "\n",
              "<text class=\"displacy-token\" fill=\"currentColor\" text-anchor=\"middle\" y=\"484.5\">\n",
              "    <tspan class=\"displacy-word\" fill=\"currentColor\" x=\"1450\">análise</tspan>\n",
              "    <tspan class=\"displacy-tag\" dy=\"2em\" fill=\"currentColor\" x=\"1450\">NOUN</tspan>\n",
              "</text>\n",
              "\n",
              "<text class=\"displacy-token\" fill=\"currentColor\" text-anchor=\"middle\" y=\"484.5\">\n",
              "    <tspan class=\"displacy-word\" fill=\"currentColor\" x=\"1625\">territorial</tspan>\n",
              "    <tspan class=\"displacy-tag\" dy=\"2em\" fill=\"currentColor\" x=\"1625\">ADJ</tspan>\n",
              "</text>\n",
              "\n",
              "<text class=\"displacy-token\" fill=\"currentColor\" text-anchor=\"middle\" y=\"484.5\">\n",
              "    <tspan class=\"displacy-word\" fill=\"currentColor\" x=\"1800\">de</tspan>\n",
              "    <tspan class=\"displacy-tag\" dy=\"2em\" fill=\"currentColor\" x=\"1800\">ADP</tspan>\n",
              "</text>\n",
              "\n",
              "<text class=\"displacy-token\" fill=\"currentColor\" text-anchor=\"middle\" y=\"484.5\">\n",
              "    <tspan class=\"displacy-word\" fill=\"currentColor\" x=\"1975\">diferentes</tspan>\n",
              "    <tspan class=\"displacy-tag\" dy=\"2em\" fill=\"currentColor\" x=\"1975\">DET</tspan>\n",
              "</text>\n",
              "\n",
              "<text class=\"displacy-token\" fill=\"currentColor\" text-anchor=\"middle\" y=\"484.5\">\n",
              "    <tspan class=\"displacy-word\" fill=\"currentColor\" x=\"2150\">fenômenos</tspan>\n",
              "    <tspan class=\"displacy-tag\" dy=\"2em\" fill=\"currentColor\" x=\"2150\">NOUN</tspan>\n",
              "</text>\n",
              "\n",
              "<text class=\"displacy-token\" fill=\"currentColor\" text-anchor=\"middle\" y=\"484.5\">\n",
              "    <tspan class=\"displacy-word\" fill=\"currentColor\" x=\"2325\">sociais</tspan>\n",
              "    <tspan class=\"displacy-tag\" dy=\"2em\" fill=\"currentColor\" x=\"2325\">ADJ</tspan>\n",
              "</text>\n",
              "\n",
              "<text class=\"displacy-token\" fill=\"currentColor\" text-anchor=\"middle\" y=\"484.5\">\n",
              "    <tspan class=\"displacy-word\" fill=\"currentColor\" x=\"2500\">ligados</tspan>\n",
              "    <tspan class=\"displacy-tag\" dy=\"2em\" fill=\"currentColor\" x=\"2500\">VERB</tspan>\n",
              "</text>\n",
              "\n",
              "<text class=\"displacy-token\" fill=\"currentColor\" text-anchor=\"middle\" y=\"484.5\">\n",
              "    <tspan class=\"displacy-word\" fill=\"currentColor\" x=\"2675\">à</tspan>\n",
              "    <tspan class=\"displacy-tag\" dy=\"2em\" fill=\"currentColor\" x=\"2675\">ADP</tspan>\n",
              "</text>\n",
              "\n",
              "<text class=\"displacy-token\" fill=\"currentColor\" text-anchor=\"middle\" y=\"484.5\">\n",
              "    <tspan class=\"displacy-word\" fill=\"currentColor\" x=\"2850\">dinâmica</tspan>\n",
              "    <tspan class=\"displacy-tag\" dy=\"2em\" fill=\"currentColor\" x=\"2850\">ADJ</tspan>\n",
              "</text>\n",
              "\n",
              "<text class=\"displacy-token\" fill=\"currentColor\" text-anchor=\"middle\" y=\"484.5\">\n",
              "    <tspan class=\"displacy-word\" fill=\"currentColor\" x=\"3025\">das</tspan>\n",
              "    <tspan class=\"displacy-tag\" dy=\"2em\" fill=\"currentColor\" x=\"3025\">NOUN</tspan>\n",
              "</text>\n",
              "\n",
              "<text class=\"displacy-token\" fill=\"currentColor\" text-anchor=\"middle\" y=\"484.5\">\n",
              "    <tspan class=\"displacy-word\" fill=\"currentColor\" x=\"3200\">cidades</tspan>\n",
              "    <tspan class=\"displacy-tag\" dy=\"2em\" fill=\"currentColor\" x=\"3200\">NOUN</tspan>\n",
              "</text>\n",
              "\n",
              "<g class=\"displacy-arrow\">\n",
              "    <path class=\"displacy-arc\" id=\"arrow-d0e28a492d394243a2ef8edebd5ec239-0-0\" stroke-width=\"2px\" d=\"M70,439.5 C70,352.0 205.0,352.0 205.0,439.5\" fill=\"none\" stroke=\"currentColor\"/>\n",
              "    <text dy=\"1.25em\" style=\"font-size: 0.8em; letter-spacing: 1px\">\n",
              "        <textPath xlink:href=\"#arrow-d0e28a492d394243a2ef8edebd5ec239-0-0\" class=\"displacy-label\" startOffset=\"50%\" side=\"left\" fill=\"currentColor\" text-anchor=\"middle\">det</textPath>\n",
              "    </text>\n",
              "    <path class=\"displacy-arrowhead\" d=\"M70,441.5 L62,429.5 78,429.5\" fill=\"currentColor\"/>\n",
              "</g>\n",
              "\n",
              "<g class=\"displacy-arrow\">\n",
              "    <path class=\"displacy-arc\" id=\"arrow-d0e28a492d394243a2ef8edebd5ec239-0-1\" stroke-width=\"2px\" d=\"M245,439.5 C245,2.0 1100.0,2.0 1100.0,439.5\" fill=\"none\" stroke=\"currentColor\"/>\n",
              "    <text dy=\"1.25em\" style=\"font-size: 0.8em; letter-spacing: 1px\">\n",
              "        <textPath xlink:href=\"#arrow-d0e28a492d394243a2ef8edebd5ec239-0-1\" class=\"displacy-label\" startOffset=\"50%\" side=\"left\" fill=\"currentColor\" text-anchor=\"middle\">nsubj</textPath>\n",
              "    </text>\n",
              "    <path class=\"displacy-arrowhead\" d=\"M245,441.5 L237,429.5 253,429.5\" fill=\"currentColor\"/>\n",
              "</g>\n",
              "\n",
              "<g class=\"displacy-arrow\">\n",
              "    <path class=\"displacy-arc\" id=\"arrow-d0e28a492d394243a2ef8edebd5ec239-0-2\" stroke-width=\"2px\" d=\"M245,439.5 C245,352.0 380.0,352.0 380.0,439.5\" fill=\"none\" stroke=\"currentColor\"/>\n",
              "    <text dy=\"1.25em\" style=\"font-size: 0.8em; letter-spacing: 1px\">\n",
              "        <textPath xlink:href=\"#arrow-d0e28a492d394243a2ef8edebd5ec239-0-2\" class=\"displacy-label\" startOffset=\"50%\" side=\"left\" fill=\"currentColor\" text-anchor=\"middle\">amod</textPath>\n",
              "    </text>\n",
              "    <path class=\"displacy-arrowhead\" d=\"M380.0,441.5 L388.0,429.5 372.0,429.5\" fill=\"currentColor\"/>\n",
              "</g>\n",
              "\n",
              "<g class=\"displacy-arrow\">\n",
              "    <path class=\"displacy-arc\" id=\"arrow-d0e28a492d394243a2ef8edebd5ec239-0-3\" stroke-width=\"2px\" d=\"M595,439.5 C595,352.0 730.0,352.0 730.0,439.5\" fill=\"none\" stroke=\"currentColor\"/>\n",
              "    <text dy=\"1.25em\" style=\"font-size: 0.8em; letter-spacing: 1px\">\n",
              "        <textPath xlink:href=\"#arrow-d0e28a492d394243a2ef8edebd5ec239-0-3\" class=\"displacy-label\" startOffset=\"50%\" side=\"left\" fill=\"currentColor\" text-anchor=\"middle\">case</textPath>\n",
              "    </text>\n",
              "    <path class=\"displacy-arrowhead\" d=\"M595,441.5 L587,429.5 603,429.5\" fill=\"currentColor\"/>\n",
              "</g>\n",
              "\n",
              "<g class=\"displacy-arrow\">\n",
              "    <path class=\"displacy-arc\" id=\"arrow-d0e28a492d394243a2ef8edebd5ec239-0-4\" stroke-width=\"2px\" d=\"M245,439.5 C245,177.0 740.0,177.0 740.0,439.5\" fill=\"none\" stroke=\"currentColor\"/>\n",
              "    <text dy=\"1.25em\" style=\"font-size: 0.8em; letter-spacing: 1px\">\n",
              "        <textPath xlink:href=\"#arrow-d0e28a492d394243a2ef8edebd5ec239-0-4\" class=\"displacy-label\" startOffset=\"50%\" side=\"left\" fill=\"currentColor\" text-anchor=\"middle\">nmod</textPath>\n",
              "    </text>\n",
              "    <path class=\"displacy-arrowhead\" d=\"M740.0,441.5 L748.0,429.5 732.0,429.5\" fill=\"currentColor\"/>\n",
              "</g>\n",
              "\n",
              "<g class=\"displacy-arrow\">\n",
              "    <path class=\"displacy-arc\" id=\"arrow-d0e28a492d394243a2ef8edebd5ec239-0-5\" stroke-width=\"2px\" d=\"M770,439.5 C770,352.0 905.0,352.0 905.0,439.5\" fill=\"none\" stroke=\"currentColor\"/>\n",
              "    <text dy=\"1.25em\" style=\"font-size: 0.8em; letter-spacing: 1px\">\n",
              "        <textPath xlink:href=\"#arrow-d0e28a492d394243a2ef8edebd5ec239-0-5\" class=\"displacy-label\" startOffset=\"50%\" side=\"left\" fill=\"currentColor\" text-anchor=\"middle\">amod</textPath>\n",
              "    </text>\n",
              "    <path class=\"displacy-arrowhead\" d=\"M905.0,441.5 L913.0,429.5 897.0,429.5\" fill=\"currentColor\"/>\n",
              "</g>\n",
              "\n",
              "<g class=\"displacy-arrow\">\n",
              "    <path class=\"displacy-arc\" id=\"arrow-d0e28a492d394243a2ef8edebd5ec239-0-6\" stroke-width=\"2px\" d=\"M1295,439.5 C1295,352.0 1430.0,352.0 1430.0,439.5\" fill=\"none\" stroke=\"currentColor\"/>\n",
              "    <text dy=\"1.25em\" style=\"font-size: 0.8em; letter-spacing: 1px\">\n",
              "        <textPath xlink:href=\"#arrow-d0e28a492d394243a2ef8edebd5ec239-0-6\" class=\"displacy-label\" startOffset=\"50%\" side=\"left\" fill=\"currentColor\" text-anchor=\"middle\">det</textPath>\n",
              "    </text>\n",
              "    <path class=\"displacy-arrowhead\" d=\"M1295,441.5 L1287,429.5 1303,429.5\" fill=\"currentColor\"/>\n",
              "</g>\n",
              "\n",
              "<g class=\"displacy-arrow\">\n",
              "    <path class=\"displacy-arc\" id=\"arrow-d0e28a492d394243a2ef8edebd5ec239-0-7\" stroke-width=\"2px\" d=\"M1120,439.5 C1120,264.5 1435.0,264.5 1435.0,439.5\" fill=\"none\" stroke=\"currentColor\"/>\n",
              "    <text dy=\"1.25em\" style=\"font-size: 0.8em; letter-spacing: 1px\">\n",
              "        <textPath xlink:href=\"#arrow-d0e28a492d394243a2ef8edebd5ec239-0-7\" class=\"displacy-label\" startOffset=\"50%\" side=\"left\" fill=\"currentColor\" text-anchor=\"middle\">obj</textPath>\n",
              "    </text>\n",
              "    <path class=\"displacy-arrowhead\" d=\"M1435.0,441.5 L1443.0,429.5 1427.0,429.5\" fill=\"currentColor\"/>\n",
              "</g>\n",
              "\n",
              "<g class=\"displacy-arrow\">\n",
              "    <path class=\"displacy-arc\" id=\"arrow-d0e28a492d394243a2ef8edebd5ec239-0-8\" stroke-width=\"2px\" d=\"M1470,439.5 C1470,352.0 1605.0,352.0 1605.0,439.5\" fill=\"none\" stroke=\"currentColor\"/>\n",
              "    <text dy=\"1.25em\" style=\"font-size: 0.8em; letter-spacing: 1px\">\n",
              "        <textPath xlink:href=\"#arrow-d0e28a492d394243a2ef8edebd5ec239-0-8\" class=\"displacy-label\" startOffset=\"50%\" side=\"left\" fill=\"currentColor\" text-anchor=\"middle\">amod</textPath>\n",
              "    </text>\n",
              "    <path class=\"displacy-arrowhead\" d=\"M1605.0,441.5 L1613.0,429.5 1597.0,429.5\" fill=\"currentColor\"/>\n",
              "</g>\n",
              "\n",
              "<g class=\"displacy-arrow\">\n",
              "    <path class=\"displacy-arc\" id=\"arrow-d0e28a492d394243a2ef8edebd5ec239-0-9\" stroke-width=\"2px\" d=\"M1820,439.5 C1820,264.5 2135.0,264.5 2135.0,439.5\" fill=\"none\" stroke=\"currentColor\"/>\n",
              "    <text dy=\"1.25em\" style=\"font-size: 0.8em; letter-spacing: 1px\">\n",
              "        <textPath xlink:href=\"#arrow-d0e28a492d394243a2ef8edebd5ec239-0-9\" class=\"displacy-label\" startOffset=\"50%\" side=\"left\" fill=\"currentColor\" text-anchor=\"middle\">case</textPath>\n",
              "    </text>\n",
              "    <path class=\"displacy-arrowhead\" d=\"M1820,441.5 L1812,429.5 1828,429.5\" fill=\"currentColor\"/>\n",
              "</g>\n",
              "\n",
              "<g class=\"displacy-arrow\">\n",
              "    <path class=\"displacy-arc\" id=\"arrow-d0e28a492d394243a2ef8edebd5ec239-0-10\" stroke-width=\"2px\" d=\"M1995,439.5 C1995,352.0 2130.0,352.0 2130.0,439.5\" fill=\"none\" stroke=\"currentColor\"/>\n",
              "    <text dy=\"1.25em\" style=\"font-size: 0.8em; letter-spacing: 1px\">\n",
              "        <textPath xlink:href=\"#arrow-d0e28a492d394243a2ef8edebd5ec239-0-10\" class=\"displacy-label\" startOffset=\"50%\" side=\"left\" fill=\"currentColor\" text-anchor=\"middle\">det</textPath>\n",
              "    </text>\n",
              "    <path class=\"displacy-arrowhead\" d=\"M1995,441.5 L1987,429.5 2003,429.5\" fill=\"currentColor\"/>\n",
              "</g>\n",
              "\n",
              "<g class=\"displacy-arrow\">\n",
              "    <path class=\"displacy-arc\" id=\"arrow-d0e28a492d394243a2ef8edebd5ec239-0-11\" stroke-width=\"2px\" d=\"M1470,439.5 C1470,89.5 2145.0,89.5 2145.0,439.5\" fill=\"none\" stroke=\"currentColor\"/>\n",
              "    <text dy=\"1.25em\" style=\"font-size: 0.8em; letter-spacing: 1px\">\n",
              "        <textPath xlink:href=\"#arrow-d0e28a492d394243a2ef8edebd5ec239-0-11\" class=\"displacy-label\" startOffset=\"50%\" side=\"left\" fill=\"currentColor\" text-anchor=\"middle\">nmod</textPath>\n",
              "    </text>\n",
              "    <path class=\"displacy-arrowhead\" d=\"M2145.0,441.5 L2153.0,429.5 2137.0,429.5\" fill=\"currentColor\"/>\n",
              "</g>\n",
              "\n",
              "<g class=\"displacy-arrow\">\n",
              "    <path class=\"displacy-arc\" id=\"arrow-d0e28a492d394243a2ef8edebd5ec239-0-12\" stroke-width=\"2px\" d=\"M2170,439.5 C2170,352.0 2305.0,352.0 2305.0,439.5\" fill=\"none\" stroke=\"currentColor\"/>\n",
              "    <text dy=\"1.25em\" style=\"font-size: 0.8em; letter-spacing: 1px\">\n",
              "        <textPath xlink:href=\"#arrow-d0e28a492d394243a2ef8edebd5ec239-0-12\" class=\"displacy-label\" startOffset=\"50%\" side=\"left\" fill=\"currentColor\" text-anchor=\"middle\">amod</textPath>\n",
              "    </text>\n",
              "    <path class=\"displacy-arrowhead\" d=\"M2305.0,441.5 L2313.0,429.5 2297.0,429.5\" fill=\"currentColor\"/>\n",
              "</g>\n",
              "\n",
              "<g class=\"displacy-arrow\">\n",
              "    <path class=\"displacy-arc\" id=\"arrow-d0e28a492d394243a2ef8edebd5ec239-0-13\" stroke-width=\"2px\" d=\"M2170,439.5 C2170,264.5 2485.0,264.5 2485.0,439.5\" fill=\"none\" stroke=\"currentColor\"/>\n",
              "    <text dy=\"1.25em\" style=\"font-size: 0.8em; letter-spacing: 1px\">\n",
              "        <textPath xlink:href=\"#arrow-d0e28a492d394243a2ef8edebd5ec239-0-13\" class=\"displacy-label\" startOffset=\"50%\" side=\"left\" fill=\"currentColor\" text-anchor=\"middle\">acl</textPath>\n",
              "    </text>\n",
              "    <path class=\"displacy-arrowhead\" d=\"M2485.0,441.5 L2493.0,429.5 2477.0,429.5\" fill=\"currentColor\"/>\n",
              "</g>\n",
              "\n",
              "<g class=\"displacy-arrow\">\n",
              "    <path class=\"displacy-arc\" id=\"arrow-d0e28a492d394243a2ef8edebd5ec239-0-14\" stroke-width=\"2px\" d=\"M2695,439.5 C2695,352.0 2830.0,352.0 2830.0,439.5\" fill=\"none\" stroke=\"currentColor\"/>\n",
              "    <text dy=\"1.25em\" style=\"font-size: 0.8em; letter-spacing: 1px\">\n",
              "        <textPath xlink:href=\"#arrow-d0e28a492d394243a2ef8edebd5ec239-0-14\" class=\"displacy-label\" startOffset=\"50%\" side=\"left\" fill=\"currentColor\" text-anchor=\"middle\">case</textPath>\n",
              "    </text>\n",
              "    <path class=\"displacy-arrowhead\" d=\"M2695,441.5 L2687,429.5 2703,429.5\" fill=\"currentColor\"/>\n",
              "</g>\n",
              "\n",
              "<g class=\"displacy-arrow\">\n",
              "    <path class=\"displacy-arc\" id=\"arrow-d0e28a492d394243a2ef8edebd5ec239-0-15\" stroke-width=\"2px\" d=\"M2520,439.5 C2520,264.5 2835.0,264.5 2835.0,439.5\" fill=\"none\" stroke=\"currentColor\"/>\n",
              "    <text dy=\"1.25em\" style=\"font-size: 0.8em; letter-spacing: 1px\">\n",
              "        <textPath xlink:href=\"#arrow-d0e28a492d394243a2ef8edebd5ec239-0-15\" class=\"displacy-label\" startOffset=\"50%\" side=\"left\" fill=\"currentColor\" text-anchor=\"middle\">obl</textPath>\n",
              "    </text>\n",
              "    <path class=\"displacy-arrowhead\" d=\"M2835.0,441.5 L2843.0,429.5 2827.0,429.5\" fill=\"currentColor\"/>\n",
              "</g>\n",
              "\n",
              "<g class=\"displacy-arrow\">\n",
              "    <path class=\"displacy-arc\" id=\"arrow-d0e28a492d394243a2ef8edebd5ec239-0-16\" stroke-width=\"2px\" d=\"M3045,439.5 C3045,352.0 3180.0,352.0 3180.0,439.5\" fill=\"none\" stroke=\"currentColor\"/>\n",
              "    <text dy=\"1.25em\" style=\"font-size: 0.8em; letter-spacing: 1px\">\n",
              "        <textPath xlink:href=\"#arrow-d0e28a492d394243a2ef8edebd5ec239-0-16\" class=\"displacy-label\" startOffset=\"50%\" side=\"left\" fill=\"currentColor\" text-anchor=\"middle\">acl</textPath>\n",
              "    </text>\n",
              "    <path class=\"displacy-arrowhead\" d=\"M3045,441.5 L3037,429.5 3053,429.5\" fill=\"currentColor\"/>\n",
              "</g>\n",
              "</svg></span>"
            ],
            "text/plain": [
              "<IPython.core.display.HTML object>"
            ]
          },
          "metadata": {
            "tags": []
          }
        }
      ]
    },
    {
      "cell_type": "code",
      "metadata": {
        "id": "9FZ3faMRdNuw",
        "colab_type": "code",
        "colab": {
          "base_uri": "https://localhost:8080/",
          "height": 615
        },
        "outputId": "0a0b37fc-01ba-452c-c039-29e477b8f207"
      },
      "source": [
        "from IPython.core.display import display, HTML\n",
        "\n",
        "html = spacy.displacy.render(texto, style=\"dep\")\n",
        "display(HTML(html))"
      ],
      "execution_count": 103,
      "outputs": [
        {
          "output_type": "display_data",
          "data": {
            "text/html": [
              "<svg xmlns=\"http://www.w3.org/2000/svg\" xmlns:xlink=\"http://www.w3.org/1999/xlink\" xml:lang=\"pt\" id=\"d1cd96c924464c248be2b4b88dd4c4e4-0\" class=\"displacy\" width=\"3375\" height=\"574.5\" direction=\"ltr\" style=\"max-width: none; height: 574.5px; color: #000000; background: #ffffff; font-family: Arial; direction: ltr\">\n",
              "<text class=\"displacy-token\" fill=\"currentColor\" text-anchor=\"middle\" y=\"484.5\">\n",
              "    <tspan class=\"displacy-word\" fill=\"currentColor\" x=\"50\">o</tspan>\n",
              "    <tspan class=\"displacy-tag\" dy=\"2em\" fill=\"currentColor\" x=\"50\">DET</tspan>\n",
              "</text>\n",
              "\n",
              "<text class=\"displacy-token\" fill=\"currentColor\" text-anchor=\"middle\" y=\"484.5\">\n",
              "    <tspan class=\"displacy-word\" fill=\"currentColor\" x=\"225\">espaço</tspan>\n",
              "    <tspan class=\"displacy-tag\" dy=\"2em\" fill=\"currentColor\" x=\"225\">NOUN</tspan>\n",
              "</text>\n",
              "\n",
              "<text class=\"displacy-token\" fill=\"currentColor\" text-anchor=\"middle\" y=\"484.5\">\n",
              "    <tspan class=\"displacy-word\" fill=\"currentColor\" x=\"400\">geográfico</tspan>\n",
              "    <tspan class=\"displacy-tag\" dy=\"2em\" fill=\"currentColor\" x=\"400\">ADJ</tspan>\n",
              "</text>\n",
              "\n",
              "<text class=\"displacy-token\" fill=\"currentColor\" text-anchor=\"middle\" y=\"484.5\">\n",
              "    <tspan class=\"displacy-word\" fill=\"currentColor\" x=\"575\">em</tspan>\n",
              "    <tspan class=\"displacy-tag\" dy=\"2em\" fill=\"currentColor\" x=\"575\">ADP</tspan>\n",
              "</text>\n",
              "\n",
              "<text class=\"displacy-token\" fill=\"currentColor\" text-anchor=\"middle\" y=\"484.5\">\n",
              "    <tspan class=\"displacy-word\" fill=\"currentColor\" x=\"750\">tempos</tspan>\n",
              "    <tspan class=\"displacy-tag\" dy=\"2em\" fill=\"currentColor\" x=\"750\">NOUN</tspan>\n",
              "</text>\n",
              "\n",
              "<text class=\"displacy-token\" fill=\"currentColor\" text-anchor=\"middle\" y=\"484.5\">\n",
              "    <tspan class=\"displacy-word\" fill=\"currentColor\" x=\"925\">contemporâneos</tspan>\n",
              "    <tspan class=\"displacy-tag\" dy=\"2em\" fill=\"currentColor\" x=\"925\">ADJ</tspan>\n",
              "</text>\n",
              "\n",
              "<text class=\"displacy-token\" fill=\"currentColor\" text-anchor=\"middle\" y=\"484.5\">\n",
              "    <tspan class=\"displacy-word\" fill=\"currentColor\" x=\"1100\">demanda</tspan>\n",
              "    <tspan class=\"displacy-tag\" dy=\"2em\" fill=\"currentColor\" x=\"1100\">NOUN</tspan>\n",
              "</text>\n",
              "\n",
              "<text class=\"displacy-token\" fill=\"currentColor\" text-anchor=\"middle\" y=\"484.5\">\n",
              "    <tspan class=\"displacy-word\" fill=\"currentColor\" x=\"1275\">a</tspan>\n",
              "    <tspan class=\"displacy-tag\" dy=\"2em\" fill=\"currentColor\" x=\"1275\">DET</tspan>\n",
              "</text>\n",
              "\n",
              "<text class=\"displacy-token\" fill=\"currentColor\" text-anchor=\"middle\" y=\"484.5\">\n",
              "    <tspan class=\"displacy-word\" fill=\"currentColor\" x=\"1450\">análise</tspan>\n",
              "    <tspan class=\"displacy-tag\" dy=\"2em\" fill=\"currentColor\" x=\"1450\">NOUN</tspan>\n",
              "</text>\n",
              "\n",
              "<text class=\"displacy-token\" fill=\"currentColor\" text-anchor=\"middle\" y=\"484.5\">\n",
              "    <tspan class=\"displacy-word\" fill=\"currentColor\" x=\"1625\">territorial</tspan>\n",
              "    <tspan class=\"displacy-tag\" dy=\"2em\" fill=\"currentColor\" x=\"1625\">ADJ</tspan>\n",
              "</text>\n",
              "\n",
              "<text class=\"displacy-token\" fill=\"currentColor\" text-anchor=\"middle\" y=\"484.5\">\n",
              "    <tspan class=\"displacy-word\" fill=\"currentColor\" x=\"1800\">de</tspan>\n",
              "    <tspan class=\"displacy-tag\" dy=\"2em\" fill=\"currentColor\" x=\"1800\">ADP</tspan>\n",
              "</text>\n",
              "\n",
              "<text class=\"displacy-token\" fill=\"currentColor\" text-anchor=\"middle\" y=\"484.5\">\n",
              "    <tspan class=\"displacy-word\" fill=\"currentColor\" x=\"1975\">diferentes</tspan>\n",
              "    <tspan class=\"displacy-tag\" dy=\"2em\" fill=\"currentColor\" x=\"1975\">DET</tspan>\n",
              "</text>\n",
              "\n",
              "<text class=\"displacy-token\" fill=\"currentColor\" text-anchor=\"middle\" y=\"484.5\">\n",
              "    <tspan class=\"displacy-word\" fill=\"currentColor\" x=\"2150\">fenômenos</tspan>\n",
              "    <tspan class=\"displacy-tag\" dy=\"2em\" fill=\"currentColor\" x=\"2150\">NOUN</tspan>\n",
              "</text>\n",
              "\n",
              "<text class=\"displacy-token\" fill=\"currentColor\" text-anchor=\"middle\" y=\"484.5\">\n",
              "    <tspan class=\"displacy-word\" fill=\"currentColor\" x=\"2325\">sociais</tspan>\n",
              "    <tspan class=\"displacy-tag\" dy=\"2em\" fill=\"currentColor\" x=\"2325\">ADJ</tspan>\n",
              "</text>\n",
              "\n",
              "<text class=\"displacy-token\" fill=\"currentColor\" text-anchor=\"middle\" y=\"484.5\">\n",
              "    <tspan class=\"displacy-word\" fill=\"currentColor\" x=\"2500\">ligados</tspan>\n",
              "    <tspan class=\"displacy-tag\" dy=\"2em\" fill=\"currentColor\" x=\"2500\">VERB</tspan>\n",
              "</text>\n",
              "\n",
              "<text class=\"displacy-token\" fill=\"currentColor\" text-anchor=\"middle\" y=\"484.5\">\n",
              "    <tspan class=\"displacy-word\" fill=\"currentColor\" x=\"2675\">à</tspan>\n",
              "    <tspan class=\"displacy-tag\" dy=\"2em\" fill=\"currentColor\" x=\"2675\">ADP</tspan>\n",
              "</text>\n",
              "\n",
              "<text class=\"displacy-token\" fill=\"currentColor\" text-anchor=\"middle\" y=\"484.5\">\n",
              "    <tspan class=\"displacy-word\" fill=\"currentColor\" x=\"2850\">dinâmica</tspan>\n",
              "    <tspan class=\"displacy-tag\" dy=\"2em\" fill=\"currentColor\" x=\"2850\">ADJ</tspan>\n",
              "</text>\n",
              "\n",
              "<text class=\"displacy-token\" fill=\"currentColor\" text-anchor=\"middle\" y=\"484.5\">\n",
              "    <tspan class=\"displacy-word\" fill=\"currentColor\" x=\"3025\">das</tspan>\n",
              "    <tspan class=\"displacy-tag\" dy=\"2em\" fill=\"currentColor\" x=\"3025\">NOUN</tspan>\n",
              "</text>\n",
              "\n",
              "<text class=\"displacy-token\" fill=\"currentColor\" text-anchor=\"middle\" y=\"484.5\">\n",
              "    <tspan class=\"displacy-word\" fill=\"currentColor\" x=\"3200\">cidades</tspan>\n",
              "    <tspan class=\"displacy-tag\" dy=\"2em\" fill=\"currentColor\" x=\"3200\">NOUN</tspan>\n",
              "</text>\n",
              "\n",
              "<g class=\"displacy-arrow\">\n",
              "    <path class=\"displacy-arc\" id=\"arrow-d1cd96c924464c248be2b4b88dd4c4e4-0-0\" stroke-width=\"2px\" d=\"M70,439.5 C70,352.0 205.0,352.0 205.0,439.5\" fill=\"none\" stroke=\"currentColor\"/>\n",
              "    <text dy=\"1.25em\" style=\"font-size: 0.8em; letter-spacing: 1px\">\n",
              "        <textPath xlink:href=\"#arrow-d1cd96c924464c248be2b4b88dd4c4e4-0-0\" class=\"displacy-label\" startOffset=\"50%\" side=\"left\" fill=\"currentColor\" text-anchor=\"middle\">det</textPath>\n",
              "    </text>\n",
              "    <path class=\"displacy-arrowhead\" d=\"M70,441.5 L62,429.5 78,429.5\" fill=\"currentColor\"/>\n",
              "</g>\n",
              "\n",
              "<g class=\"displacy-arrow\">\n",
              "    <path class=\"displacy-arc\" id=\"arrow-d1cd96c924464c248be2b4b88dd4c4e4-0-1\" stroke-width=\"2px\" d=\"M245,439.5 C245,2.0 1100.0,2.0 1100.0,439.5\" fill=\"none\" stroke=\"currentColor\"/>\n",
              "    <text dy=\"1.25em\" style=\"font-size: 0.8em; letter-spacing: 1px\">\n",
              "        <textPath xlink:href=\"#arrow-d1cd96c924464c248be2b4b88dd4c4e4-0-1\" class=\"displacy-label\" startOffset=\"50%\" side=\"left\" fill=\"currentColor\" text-anchor=\"middle\">nsubj</textPath>\n",
              "    </text>\n",
              "    <path class=\"displacy-arrowhead\" d=\"M245,441.5 L237,429.5 253,429.5\" fill=\"currentColor\"/>\n",
              "</g>\n",
              "\n",
              "<g class=\"displacy-arrow\">\n",
              "    <path class=\"displacy-arc\" id=\"arrow-d1cd96c924464c248be2b4b88dd4c4e4-0-2\" stroke-width=\"2px\" d=\"M245,439.5 C245,352.0 380.0,352.0 380.0,439.5\" fill=\"none\" stroke=\"currentColor\"/>\n",
              "    <text dy=\"1.25em\" style=\"font-size: 0.8em; letter-spacing: 1px\">\n",
              "        <textPath xlink:href=\"#arrow-d1cd96c924464c248be2b4b88dd4c4e4-0-2\" class=\"displacy-label\" startOffset=\"50%\" side=\"left\" fill=\"currentColor\" text-anchor=\"middle\">amod</textPath>\n",
              "    </text>\n",
              "    <path class=\"displacy-arrowhead\" d=\"M380.0,441.5 L388.0,429.5 372.0,429.5\" fill=\"currentColor\"/>\n",
              "</g>\n",
              "\n",
              "<g class=\"displacy-arrow\">\n",
              "    <path class=\"displacy-arc\" id=\"arrow-d1cd96c924464c248be2b4b88dd4c4e4-0-3\" stroke-width=\"2px\" d=\"M595,439.5 C595,352.0 730.0,352.0 730.0,439.5\" fill=\"none\" stroke=\"currentColor\"/>\n",
              "    <text dy=\"1.25em\" style=\"font-size: 0.8em; letter-spacing: 1px\">\n",
              "        <textPath xlink:href=\"#arrow-d1cd96c924464c248be2b4b88dd4c4e4-0-3\" class=\"displacy-label\" startOffset=\"50%\" side=\"left\" fill=\"currentColor\" text-anchor=\"middle\">case</textPath>\n",
              "    </text>\n",
              "    <path class=\"displacy-arrowhead\" d=\"M595,441.5 L587,429.5 603,429.5\" fill=\"currentColor\"/>\n",
              "</g>\n",
              "\n",
              "<g class=\"displacy-arrow\">\n",
              "    <path class=\"displacy-arc\" id=\"arrow-d1cd96c924464c248be2b4b88dd4c4e4-0-4\" stroke-width=\"2px\" d=\"M245,439.5 C245,177.0 740.0,177.0 740.0,439.5\" fill=\"none\" stroke=\"currentColor\"/>\n",
              "    <text dy=\"1.25em\" style=\"font-size: 0.8em; letter-spacing: 1px\">\n",
              "        <textPath xlink:href=\"#arrow-d1cd96c924464c248be2b4b88dd4c4e4-0-4\" class=\"displacy-label\" startOffset=\"50%\" side=\"left\" fill=\"currentColor\" text-anchor=\"middle\">nmod</textPath>\n",
              "    </text>\n",
              "    <path class=\"displacy-arrowhead\" d=\"M740.0,441.5 L748.0,429.5 732.0,429.5\" fill=\"currentColor\"/>\n",
              "</g>\n",
              "\n",
              "<g class=\"displacy-arrow\">\n",
              "    <path class=\"displacy-arc\" id=\"arrow-d1cd96c924464c248be2b4b88dd4c4e4-0-5\" stroke-width=\"2px\" d=\"M770,439.5 C770,352.0 905.0,352.0 905.0,439.5\" fill=\"none\" stroke=\"currentColor\"/>\n",
              "    <text dy=\"1.25em\" style=\"font-size: 0.8em; letter-spacing: 1px\">\n",
              "        <textPath xlink:href=\"#arrow-d1cd96c924464c248be2b4b88dd4c4e4-0-5\" class=\"displacy-label\" startOffset=\"50%\" side=\"left\" fill=\"currentColor\" text-anchor=\"middle\">amod</textPath>\n",
              "    </text>\n",
              "    <path class=\"displacy-arrowhead\" d=\"M905.0,441.5 L913.0,429.5 897.0,429.5\" fill=\"currentColor\"/>\n",
              "</g>\n",
              "\n",
              "<g class=\"displacy-arrow\">\n",
              "    <path class=\"displacy-arc\" id=\"arrow-d1cd96c924464c248be2b4b88dd4c4e4-0-6\" stroke-width=\"2px\" d=\"M1295,439.5 C1295,352.0 1430.0,352.0 1430.0,439.5\" fill=\"none\" stroke=\"currentColor\"/>\n",
              "    <text dy=\"1.25em\" style=\"font-size: 0.8em; letter-spacing: 1px\">\n",
              "        <textPath xlink:href=\"#arrow-d1cd96c924464c248be2b4b88dd4c4e4-0-6\" class=\"displacy-label\" startOffset=\"50%\" side=\"left\" fill=\"currentColor\" text-anchor=\"middle\">det</textPath>\n",
              "    </text>\n",
              "    <path class=\"displacy-arrowhead\" d=\"M1295,441.5 L1287,429.5 1303,429.5\" fill=\"currentColor\"/>\n",
              "</g>\n",
              "\n",
              "<g class=\"displacy-arrow\">\n",
              "    <path class=\"displacy-arc\" id=\"arrow-d1cd96c924464c248be2b4b88dd4c4e4-0-7\" stroke-width=\"2px\" d=\"M1120,439.5 C1120,264.5 1435.0,264.5 1435.0,439.5\" fill=\"none\" stroke=\"currentColor\"/>\n",
              "    <text dy=\"1.25em\" style=\"font-size: 0.8em; letter-spacing: 1px\">\n",
              "        <textPath xlink:href=\"#arrow-d1cd96c924464c248be2b4b88dd4c4e4-0-7\" class=\"displacy-label\" startOffset=\"50%\" side=\"left\" fill=\"currentColor\" text-anchor=\"middle\">obj</textPath>\n",
              "    </text>\n",
              "    <path class=\"displacy-arrowhead\" d=\"M1435.0,441.5 L1443.0,429.5 1427.0,429.5\" fill=\"currentColor\"/>\n",
              "</g>\n",
              "\n",
              "<g class=\"displacy-arrow\">\n",
              "    <path class=\"displacy-arc\" id=\"arrow-d1cd96c924464c248be2b4b88dd4c4e4-0-8\" stroke-width=\"2px\" d=\"M1470,439.5 C1470,352.0 1605.0,352.0 1605.0,439.5\" fill=\"none\" stroke=\"currentColor\"/>\n",
              "    <text dy=\"1.25em\" style=\"font-size: 0.8em; letter-spacing: 1px\">\n",
              "        <textPath xlink:href=\"#arrow-d1cd96c924464c248be2b4b88dd4c4e4-0-8\" class=\"displacy-label\" startOffset=\"50%\" side=\"left\" fill=\"currentColor\" text-anchor=\"middle\">amod</textPath>\n",
              "    </text>\n",
              "    <path class=\"displacy-arrowhead\" d=\"M1605.0,441.5 L1613.0,429.5 1597.0,429.5\" fill=\"currentColor\"/>\n",
              "</g>\n",
              "\n",
              "<g class=\"displacy-arrow\">\n",
              "    <path class=\"displacy-arc\" id=\"arrow-d1cd96c924464c248be2b4b88dd4c4e4-0-9\" stroke-width=\"2px\" d=\"M1820,439.5 C1820,264.5 2135.0,264.5 2135.0,439.5\" fill=\"none\" stroke=\"currentColor\"/>\n",
              "    <text dy=\"1.25em\" style=\"font-size: 0.8em; letter-spacing: 1px\">\n",
              "        <textPath xlink:href=\"#arrow-d1cd96c924464c248be2b4b88dd4c4e4-0-9\" class=\"displacy-label\" startOffset=\"50%\" side=\"left\" fill=\"currentColor\" text-anchor=\"middle\">case</textPath>\n",
              "    </text>\n",
              "    <path class=\"displacy-arrowhead\" d=\"M1820,441.5 L1812,429.5 1828,429.5\" fill=\"currentColor\"/>\n",
              "</g>\n",
              "\n",
              "<g class=\"displacy-arrow\">\n",
              "    <path class=\"displacy-arc\" id=\"arrow-d1cd96c924464c248be2b4b88dd4c4e4-0-10\" stroke-width=\"2px\" d=\"M1995,439.5 C1995,352.0 2130.0,352.0 2130.0,439.5\" fill=\"none\" stroke=\"currentColor\"/>\n",
              "    <text dy=\"1.25em\" style=\"font-size: 0.8em; letter-spacing: 1px\">\n",
              "        <textPath xlink:href=\"#arrow-d1cd96c924464c248be2b4b88dd4c4e4-0-10\" class=\"displacy-label\" startOffset=\"50%\" side=\"left\" fill=\"currentColor\" text-anchor=\"middle\">det</textPath>\n",
              "    </text>\n",
              "    <path class=\"displacy-arrowhead\" d=\"M1995,441.5 L1987,429.5 2003,429.5\" fill=\"currentColor\"/>\n",
              "</g>\n",
              "\n",
              "<g class=\"displacy-arrow\">\n",
              "    <path class=\"displacy-arc\" id=\"arrow-d1cd96c924464c248be2b4b88dd4c4e4-0-11\" stroke-width=\"2px\" d=\"M1470,439.5 C1470,89.5 2145.0,89.5 2145.0,439.5\" fill=\"none\" stroke=\"currentColor\"/>\n",
              "    <text dy=\"1.25em\" style=\"font-size: 0.8em; letter-spacing: 1px\">\n",
              "        <textPath xlink:href=\"#arrow-d1cd96c924464c248be2b4b88dd4c4e4-0-11\" class=\"displacy-label\" startOffset=\"50%\" side=\"left\" fill=\"currentColor\" text-anchor=\"middle\">nmod</textPath>\n",
              "    </text>\n",
              "    <path class=\"displacy-arrowhead\" d=\"M2145.0,441.5 L2153.0,429.5 2137.0,429.5\" fill=\"currentColor\"/>\n",
              "</g>\n",
              "\n",
              "<g class=\"displacy-arrow\">\n",
              "    <path class=\"displacy-arc\" id=\"arrow-d1cd96c924464c248be2b4b88dd4c4e4-0-12\" stroke-width=\"2px\" d=\"M2170,439.5 C2170,352.0 2305.0,352.0 2305.0,439.5\" fill=\"none\" stroke=\"currentColor\"/>\n",
              "    <text dy=\"1.25em\" style=\"font-size: 0.8em; letter-spacing: 1px\">\n",
              "        <textPath xlink:href=\"#arrow-d1cd96c924464c248be2b4b88dd4c4e4-0-12\" class=\"displacy-label\" startOffset=\"50%\" side=\"left\" fill=\"currentColor\" text-anchor=\"middle\">amod</textPath>\n",
              "    </text>\n",
              "    <path class=\"displacy-arrowhead\" d=\"M2305.0,441.5 L2313.0,429.5 2297.0,429.5\" fill=\"currentColor\"/>\n",
              "</g>\n",
              "\n",
              "<g class=\"displacy-arrow\">\n",
              "    <path class=\"displacy-arc\" id=\"arrow-d1cd96c924464c248be2b4b88dd4c4e4-0-13\" stroke-width=\"2px\" d=\"M2170,439.5 C2170,264.5 2485.0,264.5 2485.0,439.5\" fill=\"none\" stroke=\"currentColor\"/>\n",
              "    <text dy=\"1.25em\" style=\"font-size: 0.8em; letter-spacing: 1px\">\n",
              "        <textPath xlink:href=\"#arrow-d1cd96c924464c248be2b4b88dd4c4e4-0-13\" class=\"displacy-label\" startOffset=\"50%\" side=\"left\" fill=\"currentColor\" text-anchor=\"middle\">acl</textPath>\n",
              "    </text>\n",
              "    <path class=\"displacy-arrowhead\" d=\"M2485.0,441.5 L2493.0,429.5 2477.0,429.5\" fill=\"currentColor\"/>\n",
              "</g>\n",
              "\n",
              "<g class=\"displacy-arrow\">\n",
              "    <path class=\"displacy-arc\" id=\"arrow-d1cd96c924464c248be2b4b88dd4c4e4-0-14\" stroke-width=\"2px\" d=\"M2695,439.5 C2695,352.0 2830.0,352.0 2830.0,439.5\" fill=\"none\" stroke=\"currentColor\"/>\n",
              "    <text dy=\"1.25em\" style=\"font-size: 0.8em; letter-spacing: 1px\">\n",
              "        <textPath xlink:href=\"#arrow-d1cd96c924464c248be2b4b88dd4c4e4-0-14\" class=\"displacy-label\" startOffset=\"50%\" side=\"left\" fill=\"currentColor\" text-anchor=\"middle\">case</textPath>\n",
              "    </text>\n",
              "    <path class=\"displacy-arrowhead\" d=\"M2695,441.5 L2687,429.5 2703,429.5\" fill=\"currentColor\"/>\n",
              "</g>\n",
              "\n",
              "<g class=\"displacy-arrow\">\n",
              "    <path class=\"displacy-arc\" id=\"arrow-d1cd96c924464c248be2b4b88dd4c4e4-0-15\" stroke-width=\"2px\" d=\"M2520,439.5 C2520,264.5 2835.0,264.5 2835.0,439.5\" fill=\"none\" stroke=\"currentColor\"/>\n",
              "    <text dy=\"1.25em\" style=\"font-size: 0.8em; letter-spacing: 1px\">\n",
              "        <textPath xlink:href=\"#arrow-d1cd96c924464c248be2b4b88dd4c4e4-0-15\" class=\"displacy-label\" startOffset=\"50%\" side=\"left\" fill=\"currentColor\" text-anchor=\"middle\">obl</textPath>\n",
              "    </text>\n",
              "    <path class=\"displacy-arrowhead\" d=\"M2835.0,441.5 L2843.0,429.5 2827.0,429.5\" fill=\"currentColor\"/>\n",
              "</g>\n",
              "\n",
              "<g class=\"displacy-arrow\">\n",
              "    <path class=\"displacy-arc\" id=\"arrow-d1cd96c924464c248be2b4b88dd4c4e4-0-16\" stroke-width=\"2px\" d=\"M3045,439.5 C3045,352.0 3180.0,352.0 3180.0,439.5\" fill=\"none\" stroke=\"currentColor\"/>\n",
              "    <text dy=\"1.25em\" style=\"font-size: 0.8em; letter-spacing: 1px\">\n",
              "        <textPath xlink:href=\"#arrow-d1cd96c924464c248be2b4b88dd4c4e4-0-16\" class=\"displacy-label\" startOffset=\"50%\" side=\"left\" fill=\"currentColor\" text-anchor=\"middle\">acl</textPath>\n",
              "    </text>\n",
              "    <path class=\"displacy-arrowhead\" d=\"M3045,441.5 L3037,429.5 3053,429.5\" fill=\"currentColor\"/>\n",
              "</g>\n",
              "</svg>"
            ],
            "text/plain": [
              "<IPython.core.display.HTML object>"
            ]
          },
          "metadata": {
            "tags": []
          }
        }
      ]
    },
    {
      "cell_type": "markdown",
      "metadata": {
        "id": "19bKEeuJEuzg",
        "colab_type": "text"
      },
      "source": [
        "## Rule Based Matching\n",
        "\n",
        "Permite a criação de regras a aprtir dos atributos e flags dos tokens. Muito útil se estiver trabalhando em um domínio específico.\n",
        "É como um regular expressions com anabolizante.\n"
      ]
    },
    {
      "cell_type": "code",
      "metadata": {
        "id": "ksQRzak_EE1T",
        "colab_type": "code",
        "colab": {}
      },
      "source": [
        "# Import spaCy Matcher\n",
        "from spacy.matcher import Matcher\n",
        "\n",
        "# Initialize the matcher with the spaCy vocabulary\n",
        "matcher = Matcher(nlp.vocab)\n",
        "\n",
        "\n",
        "# Define rule\n",
        "pattern = [{'TEXT': 'Santos'}]\n",
        "\n",
        "# Add rule\n",
        "matcher.add('rule_1', None, pattern)"
      ],
      "execution_count": 0,
      "outputs": []
    },
    {
      "cell_type": "code",
      "metadata": {
        "id": "l_XdVawsITWh",
        "colab_type": "code",
        "colab": {
          "base_uri": "https://localhost:8080/",
          "height": 70
        },
        "outputId": "02ae2d15-0dcb-4d2c-d38e-2de58894bb6d"
      },
      "source": [
        "matches = matcher(tokened_data)\n",
        "matches"
      ],
      "execution_count": 84,
      "outputs": [
        {
          "output_type": "execute_result",
          "data": {
            "text/plain": [
              "[(7604275899133490726, 42, 43),\n",
              " (7604275899133490726, 147, 148),\n",
              " (7604275899133490726, 295, 296)]"
            ]
          },
          "metadata": {
            "tags": []
          },
          "execution_count": 84
        }
      ]
    },
    {
      "cell_type": "code",
      "metadata": {
        "id": "KdaqZjxrIc6O",
        "colab_type": "code",
        "colab": {
          "base_uri": "https://localhost:8080/",
          "height": 70
        },
        "outputId": "056c482a-7dce-4a9f-f0c6-c3059239a422"
      },
      "source": [
        "# Extract matched text\n",
        "for match_id, start, end in matches:\n",
        "    # Get the matched span\n",
        "    matched_span = tokened_data[start:end]\n",
        "    print(matched_span.text)"
      ],
      "execution_count": 86,
      "outputs": [
        {
          "output_type": "stream",
          "text": [
            "Santos\n",
            "Santos\n",
            "Santos\n"
          ],
          "name": "stdout"
        }
      ]
    },
    {
      "cell_type": "code",
      "metadata": {
        "id": "gn0C3Up2Jayt",
        "colab_type": "code",
        "colab": {}
      },
      "source": [
        "pattern = [{'TEXT': 'Santos'}, {'POS':'NOUN'}]\n",
        "\n",
        "# Add rule\n",
        "matcher.add('rule_1', None, pattern)"
      ],
      "execution_count": 0,
      "outputs": []
    },
    {
      "cell_type": "code",
      "metadata": {
        "id": "fkuAkYeVJ76I",
        "colab_type": "code",
        "colab": {
          "base_uri": "https://localhost:8080/",
          "height": 70
        },
        "outputId": "1eacf8ae-6eae-430c-b922-76d35295dcc5"
      },
      "source": [
        "matches = matcher(tokened_data)\n",
        "matches"
      ],
      "execution_count": 88,
      "outputs": [
        {
          "output_type": "execute_result",
          "data": {
            "text/plain": [
              "[(7604275899133490726, 42, 43),\n",
              " (7604275899133490726, 147, 148),\n",
              " (7604275899133490726, 295, 296)]"
            ]
          },
          "metadata": {
            "tags": []
          },
          "execution_count": 88
        }
      ]
    },
    {
      "cell_type": "code",
      "metadata": {
        "id": "_xTl32jiJ_Ve",
        "colab_type": "code",
        "colab": {
          "base_uri": "https://localhost:8080/",
          "height": 70
        },
        "outputId": "d339100b-d8a8-4603-e498-ac5d79ade956"
      },
      "source": [
        "# Extract matched text\n",
        "for match_id, start, end in matches:\n",
        "    # Get the matched span\n",
        "    matched_span = tokened_data[start:end]\n",
        "    print(matched_span.text)"
      ],
      "execution_count": 89,
      "outputs": [
        {
          "output_type": "stream",
          "text": [
            "Santos\n",
            "Santos\n",
            "Santos\n"
          ],
          "name": "stdout"
        }
      ]
    }
  ]
}